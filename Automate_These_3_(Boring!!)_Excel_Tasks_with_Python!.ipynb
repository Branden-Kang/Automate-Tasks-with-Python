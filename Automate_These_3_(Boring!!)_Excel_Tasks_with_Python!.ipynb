{
  "nbformat": 4,
  "nbformat_minor": 0,
  "metadata": {
    "colab": {
      "name": "Automate These 3 (Boring!!) Excel Tasks with Python!.ipynb",
      "provenance": [],
      "authorship_tag": "ABX9TyP3HoDstelMSK1I57fzLm4Z"
    },
    "kernelspec": {
      "name": "python3",
      "display_name": "Python 3"
    },
    "language_info": {
      "name": "python"
    }
  },
  "cells": [
    {
      "cell_type": "markdown",
      "metadata": {
        "id": "tJJgyvY3DUpX"
      },
      "source": [
        "[Reference](https://towardsdatascience.com/automate-these-3-boring-excel-tasks-with-python-666b4ded101b)"
      ]
    },
    {
      "cell_type": "code",
      "metadata": {
        "colab": {
          "base_uri": "https://localhost:8080/"
        },
        "id": "l9bXRQdkDTAg",
        "outputId": "ca2f6896-dff4-42e7-b235-548fcf79b423"
      },
      "source": [
        "pip install pandas"
      ],
      "execution_count": 1,
      "outputs": [
        {
          "output_type": "stream",
          "name": "stdout",
          "text": [
            "Requirement already satisfied: pandas in /usr/local/lib/python3.7/dist-packages (1.1.5)\n",
            "Requirement already satisfied: numpy>=1.15.4 in /usr/local/lib/python3.7/dist-packages (from pandas) (1.19.5)\n",
            "Requirement already satisfied: python-dateutil>=2.7.3 in /usr/local/lib/python3.7/dist-packages (from pandas) (2.8.2)\n",
            "Requirement already satisfied: pytz>=2017.2 in /usr/local/lib/python3.7/dist-packages (from pandas) (2018.9)\n",
            "Requirement already satisfied: six>=1.5 in /usr/local/lib/python3.7/dist-packages (from python-dateutil>=2.7.3->pandas) (1.15.0)\n"
          ]
        }
      ]
    },
    {
      "cell_type": "code",
      "metadata": {
        "id": "Dwao6J9dDW65"
      },
      "source": [
        "# Section 1\n",
        "import pandas as pd\n",
        "files = ['https://github.com/datagy/mediumdata/raw/master/january.xlsx', 'https://github.com/datagy/mediumdata/raw/master/february.xlsx', 'https://github.com/datagy/mediumdata/raw/master/march.xlsx']\n",
        "combined = pd.DataFrame()\n",
        "\n",
        "# Section 2\n",
        "for file in files:\n",
        "  df = pd.read_excel(file, skiprows = 3)\n",
        "  combined = combined.append(df, ignore_index = True)\n",
        "  \n",
        "# Section 3\n",
        "combined.to_excel('combined.xlsx')"
      ],
      "execution_count": 2,
      "outputs": []
    },
    {
      "cell_type": "code",
      "metadata": {
        "colab": {
          "base_uri": "https://localhost:8080/"
        },
        "id": "Ph7n9Oz_DZAQ",
        "outputId": "9a19d5ee-a934-424a-f53c-fd140cc731f5"
      },
      "source": [
        "pip install openpyxl"
      ],
      "execution_count": 3,
      "outputs": [
        {
          "output_type": "stream",
          "name": "stdout",
          "text": [
            "Requirement already satisfied: openpyxl in /usr/local/lib/python3.7/dist-packages (2.5.9)\n",
            "Requirement already satisfied: jdcal in /usr/local/lib/python3.7/dist-packages (from openpyxl) (1.4.1)\n",
            "Requirement already satisfied: et-xmlfile in /usr/local/lib/python3.7/dist-packages (from openpyxl) (1.1.0)\n"
          ]
        }
      ]
    },
    {
      "cell_type": "code",
      "metadata": {
        "id": "YKuRF9U3DbBD"
      },
      "source": [
        "# Section 1\n",
        "import openpyxl\n",
        "\n",
        "files = [] #include paths to your files here\n",
        "values = []\n",
        "\n",
        "# Section 2\n",
        "for file in files:\n",
        "    wb = openpyxl.load_workbook(file)\n",
        "    sheet = wb['Sheet1']\n",
        "    value = sheet['F5'].value\n",
        "    values.append(value)"
      ],
      "execution_count": 4,
      "outputs": []
    },
    {
      "cell_type": "code",
      "metadata": {
        "id": "fLWfLqIADcVO"
      },
      "source": [
        "import openpyxl\n",
        "\n",
        "files = [] # Insert paths to files here\n",
        "\n",
        "for file in files:\n",
        "    wb = openpyxl.load_workbook(file)\n",
        "    sheet = wb['Sheet1']\n",
        "    sheet['F9'] = '=SUM(F5:F8)'\n",
        "    sheet['F9'].style = 'Currency'\n",
        "    wb.save(file)"
      ],
      "execution_count": 5,
      "outputs": []
    }
  ]
}
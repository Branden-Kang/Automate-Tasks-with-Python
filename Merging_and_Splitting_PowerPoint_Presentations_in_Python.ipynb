{
  "nbformat": 4,
  "nbformat_minor": 0,
  "metadata": {
    "colab": {
      "provenance": [],
      "authorship_tag": "ABX9TyOCjgCfIrQSwU9z+byHcQZN"
    },
    "kernelspec": {
      "name": "python3",
      "display_name": "Python 3"
    },
    "language_info": {
      "name": "python"
    }
  },
  "cells": [
    {
      "cell_type": "markdown",
      "source": [
        "[Reference](https://medium.com/@alice.yang_10652/merging-and-splitting-powerpoint-presentations-in-python-a-complete-guide-de689d24f770)"
      ],
      "metadata": {
        "id": "RJJ2LhJXb51I"
      }
    },
    {
      "cell_type": "markdown",
      "source": [
        "# Merging Multiple Presentations Sequentially"
      ],
      "metadata": {
        "id": "pmBcFfcZb-6d"
      }
    },
    {
      "cell_type": "code",
      "execution_count": 1,
      "metadata": {
        "id": "17MFKIVKb1zu"
      },
      "outputs": [],
      "source": [
        "from spire.presentation import *\n",
        "\n",
        "# Function to merge multiple presentations sequentially into a new presentation\n",
        "def merge_presentations(presentation_files, output_file):\n",
        "    # Create a new presentation\n",
        "    merged_presentation = Presentation()\n",
        "    # Remove the default empty slide in the new presentation\n",
        "    merged_presentation.Slides.RemoveAt(0)\n",
        "\n",
        "    for file in presentation_files:\n",
        "        # Load each presentation\n",
        "        presentation = Presentation()\n",
        "        presentation.LoadFromFile(file)\n",
        "        for slide in presentation.Slides:\n",
        "            # Copy each slide to the new presentation\n",
        "            merged_presentation.Slides.AppendBySlide(slide)\n",
        "\n",
        "    # Save the new presentation\n",
        "    merged_presentation.SaveToFile(output_file, FileFormat.Pptx2016)\n",
        "\n",
        "# PowerPoint files_to_merge\n",
        "files_to_merge = [\"presentation1.pptx\", \"presentation2.pptx\", \"presentation3.pptx\"]\n",
        "# Call the function to merge the files sequentially\n",
        "merge_presentations(files_to_merge, \"merged_presentation.pptx\")"
      ]
    },
    {
      "cell_type": "markdown",
      "source": [
        "# Merging Specific Slides from Each Presentation"
      ],
      "metadata": {
        "id": "3lHIpuZBcCM5"
      }
    },
    {
      "cell_type": "code",
      "source": [
        "from spire.presentation import *\n",
        "\n",
        "# Function to merge selected slides from multiple presentations into a new presentation\n",
        "def merge_selected_slides(presentation_files, slide_indices, output_file):\n",
        "    # Create a new presentation\n",
        "    merged_presentation = Presentation()\n",
        "    # Remove the default empty slide in the new presentation\n",
        "    merged_presentation.Slides.RemoveAt(0)\n",
        "\n",
        "    for i, file in enumerate(presentation_files):\n",
        "        # Load each presentation\n",
        "        presentation = Presentation()\n",
        "        presentation.LoadFromFile(file)\n",
        "        for j, slide in enumerate(presentation.Slides):\n",
        "            if j in slide_indices[i]:\n",
        "                # Copy the selected slides to the new presentation\n",
        "                merged_presentation.Slides.AppendBySlide(slide)\n",
        "\n",
        "    # Save the new presentation\n",
        "    merged_presentation.SaveToFile(output_file, FileFormat.Pptx2016)\n",
        "\n",
        "# PowerPoint files to merge\n",
        "files_to_merge = [\"presentation1.pptx\", \"presentation2.pptx\"]\n",
        "# Slides to merge: 1st and 3rd slide from first file, 2nd slide from second file\n",
        "slide_indices = [[0, 2], [1]]\n",
        "# Call the function to merge the selected slides into a new presentation\n",
        "merge_selected_slides(files_to_merge, slide_indices, \"selected_slides.pptx\")"
      ],
      "metadata": {
        "id": "pevSl_cvb9tc"
      },
      "execution_count": 2,
      "outputs": []
    },
    {
      "cell_type": "markdown",
      "source": [
        "# Splitting PowerPoint Presentations in Python"
      ],
      "metadata": {
        "id": "FLh-oEYScGCO"
      }
    },
    {
      "cell_type": "markdown",
      "source": [
        "## Splitting by Slide Count (Chunks)"
      ],
      "metadata": {
        "id": "H99MZ_l5cJ-5"
      }
    },
    {
      "cell_type": "code",
      "source": [
        "from spire.presentation import *\n",
        "\n",
        "# Function to split a large presentation into multiple smaller presentations by a specified number of slides per file\n",
        "def split_presentation_by_chunks(input_file, slides_per_file):\n",
        "    # Open the original presentation\n",
        "    presentation = Presentation()\n",
        "    presentation.LoadFromFile(input_file)\n",
        "\n",
        "    # Get the total number of slides in the presentation\n",
        "    total_slides = presentation.Slides.Count\n",
        "\n",
        "    # Iterate through the slides in chunks of the specified size (slides_per_file)\n",
        "    for start in range(0, total_slides, slides_per_file):\n",
        "        # Create a new presentation for each chunk\n",
        "        split_presentation = Presentation()\n",
        "        # Remove the default empty slide in the new presentation\n",
        "        split_presentation.Slides.RemoveAt(0)\n",
        "\n",
        "        # Append slides to the new presentation, from the current chunk range\n",
        "        for i in range(start, min(start + slides_per_file, total_slides)):\n",
        "            split_presentation.Slides.AppendBySlide(presentation.Slides[i])\n",
        "\n",
        "        # Save the new presentation\n",
        "        output_file = f\"part_{start // slides_per_file + 1}.pptx\"\n",
        "        split_presentation.SaveToFile(output_file, FileFormat.Pptx2016)\n",
        "\n",
        "# Call the function to split the presentation into multiple files by 3 slides per file\n",
        "split_presentation_by_chunks(\"presentation1.pptx\", 3)"
      ],
      "metadata": {
        "id": "4OgxGmV5cETV"
      },
      "execution_count": 3,
      "outputs": []
    },
    {
      "cell_type": "markdown",
      "source": [
        "## Splitting by Slide Range"
      ],
      "metadata": {
        "id": "Z1yzP2WHcMYv"
      }
    },
    {
      "cell_type": "code",
      "source": [
        "from spire.presentation import *\n",
        "\n",
        "# Function to extract a specific range of slides from a presentation and save them as a new file\n",
        "def split_presentation_by_range(input_file, start_slide, end_slide, output_file):\n",
        "    # Open the original presentation\n",
        "    presentation = Presentation()\n",
        "    presentation.LoadFromFile(input_file)\n",
        "\n",
        "    # Create a new presentation\n",
        "    split_presentation = Presentation()\n",
        "    # Remove the default empty slide in the new presentation\n",
        "    split_presentation.Slides.RemoveAt(0)\n",
        "\n",
        "    # Append slides within the specified range (from start_slide to end_slide) to the new presentation\n",
        "    for i in range(start_slide, end_slide + 1):\n",
        "        split_presentation.Slides.AppendBySlide(presentation.Slides[i])\n",
        "\n",
        "    # Save the new presentation\n",
        "    split_presentation.SaveToFile(output_file, FileFormat.Pptx2016)\n",
        "\n",
        "# Call the function to extract slides 3 to 6 from the original presentation and save them to a new file\n",
        "split_presentation_by_range(\"presentation1.pptx\", 2, 5, \"split_presentation_by_range.pptx\")"
      ],
      "metadata": {
        "id": "Txgq9Q6acK7S"
      },
      "execution_count": 4,
      "outputs": []
    },
    {
      "cell_type": "markdown",
      "source": [
        "## Splitting by Content"
      ],
      "metadata": {
        "id": "br4PHTfIcPhC"
      }
    },
    {
      "cell_type": "code",
      "source": [
        "from spire.presentation import *\n",
        "\n",
        "# Function to extract slides containing a specific keyword to a new presentation\n",
        "def split_by_content(input_file, keyword, output_file):\n",
        "    # Open the original presentation\n",
        "    presentation = Presentation()\n",
        "    presentation.LoadFromFile(input_file)\n",
        "\n",
        "    # Create a new presentation\n",
        "    split_presentation = Presentation()\n",
        "    # Remove the default empty slide in the new presentation\n",
        "    split_presentation.Slides.RemoveAt(0)\n",
        "\n",
        "    # Iterate through each slide in the original presentation\n",
        "    for slide in presentation.Slides:\n",
        "        # Check each shape in the slide to see if it contains text\n",
        "        for shape in slide.Shapes:\n",
        "            # Ensure the shape is an AutoShape with a text frame\n",
        "            if isinstance(shape, IAutoShape) and shape.TextFrame is not None:\n",
        "                # Check if the keyword is present in the shape's text\n",
        "                if keyword in shape.TextFrame.Text:\n",
        "                    # Append the slide to the new presentation if keyword is found\n",
        "                    split_presentation.Slides.AppendBySlide(slide)\n",
        "                    # Move to the next slide after finding the keyword\n",
        "                    break\n",
        "\n",
        "    # Save the new presentation\n",
        "    split_presentation.SaveToFile(output_file, FileFormat.Pptx2016)\n",
        "\n",
        "# Call the function to extract slides containing the word \"Technology\" to a new presentation\n",
        "split_by_content(\"sample.pptx\", \"Technology\", \"split_presentation_by_content.pptx\")"
      ],
      "metadata": {
        "id": "hflu9QnOcOan"
      },
      "execution_count": 5,
      "outputs": []
    }
  ]
}
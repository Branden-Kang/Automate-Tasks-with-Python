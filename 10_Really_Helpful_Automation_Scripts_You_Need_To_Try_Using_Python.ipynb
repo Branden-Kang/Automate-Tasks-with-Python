{
  "nbformat": 4,
  "nbformat_minor": 0,
  "metadata": {
    "colab": {
      "name": "10 Really Helpful Automation Scripts You Need To Try Using Python.ipynb",
      "provenance": [],
      "authorship_tag": "ABX9TyNn/yQ892hPZbAg3FavkeQs"
    },
    "kernelspec": {
      "name": "python3",
      "display_name": "Python 3"
    },
    "language_info": {
      "name": "python"
    }
  },
  "cells": [
    {
      "cell_type": "markdown",
      "metadata": {
        "id": "oXTPhZgzpBWZ"
      },
      "source": [
        "[Reference](https://medium.com/pythoneers/10-really-helpful-automation-scripts-you-need-to-try-using-python-7dda9408fa74)"
      ]
    },
    {
      "cell_type": "markdown",
      "metadata": {
        "id": "McbhR9W4pEXm"
      },
      "source": [
        "# 1. Converting PDF To Audio Files"
      ]
    },
    {
      "cell_type": "code",
      "metadata": {
        "id": "iPgbSHuto-UQ"
      },
      "source": [
        "import pyttsx3,PyPDF2\n",
        "pdfreader = PyPDF2.PdfFileReader(open('story.pdf','rb'))\n",
        "speaker = pyttsx3.init()\n",
        "for page_num in range(pdfreader.numPages):   \n",
        "    text = pdfreader.getPage(page_num).extractText()  ## extracting text from the PDF\n",
        "    cleaned_text = text.strip().replace('\\n',' ')  ## Removes unnecessary spaces and break lines\n",
        "    print(cleaned_text)                ## Print the text from PDF\n",
        "    #speaker.say(cleaned_text)        ## Let The Speaker Speak The Text\n",
        "    speaker.save_to_file(cleaned_text,'story.mp3')  ## Saving Text In a audio file 'story.mp3'\n",
        "    speaker.runAndWait()\n",
        "speaker.stop()"
      ],
      "execution_count": 1,
      "outputs": []
    },
    {
      "cell_type": "markdown",
      "metadata": {
        "id": "pDbmoe0TpJJH"
      },
      "source": [
        "# 2. Playing Random Music From The List"
      ]
    },
    {
      "cell_type": "code",
      "metadata": {
        "id": "ZVYQQ5ArpHLY"
      },
      "source": [
        "import random, os\n",
        "music_dir = 'G:\\\\new english songs'\n",
        "songs = os.listdir(music_dir)\n",
        "song = random.randint(0,len(songs))\n",
        "print(songs[song])  ## Prints The Song Name\n",
        "os.startfile(os.path.join(music_dir, songs[0])) "
      ],
      "execution_count": 2,
      "outputs": []
    },
    {
      "cell_type": "markdown",
      "metadata": {
        "id": "7ffI69-opMdn"
      },
      "source": [
        "# 3. No BookMarks Anymore"
      ]
    },
    {
      "cell_type": "code",
      "metadata": {
        "id": "bagG10CVpK91"
      },
      "source": [
        "import webbrowser\n",
        "\n",
        "with open('websites.txt') as file:\n",
        "    links = file.readlines()\n",
        "    for link in link:\n",
        "        webbrowser.open(link)"
      ],
      "execution_count": 3,
      "outputs": []
    },
    {
      "cell_type": "markdown",
      "metadata": {
        "id": "N26n6YugpZAG"
      },
      "source": [
        "# 4. Getting Wikipedia Information"
      ]
    },
    {
      "cell_type": "code",
      "metadata": {
        "id": "R4h0BaD1pXgJ"
      },
      "source": [
        "import wikipedia\n",
        "import pyttsx3 \n",
        "engine = pyttsx3.init('sapi5')\n",
        "voices = engine.getProperty('voices')\n",
        "engine.setProperty('voice', voices[0].id)\n",
        "def speak(audio):\n",
        "    engine.say(audio)\n",
        "    engine.runAndWait()\n",
        "query = input(\"What You Want To Ask ??\")\n",
        "results = wikipedia.summary(query, sentences=2)\n",
        "speak(\"According to Wikipedia\\n\")\n",
        "print(results)\n",
        "speak(results)"
      ],
      "execution_count": 4,
      "outputs": []
    },
    {
      "cell_type": "markdown",
      "metadata": {
        "id": "-bvqRyfOpcVM"
      },
      "source": [
        "# 5. Smart Weather Information"
      ]
    },
    {
      "cell_type": "code",
      "metadata": {
        "id": "1LqTksrppcG7"
      },
      "source": [
        "from bs4 import BeautifulSoup\n",
        "import requests\n",
        "import time\n",
        "from win10toast import ToastNotifier\n",
        "\n",
        "headers = {'User-Agent': 'Mozilla/5.0 (Windows NT 10.0; Win64; x64) AppleWebKit/537.36 (KHTML, like Gecko) Chrome/58.0.3029.110 Safari/537.3'}\n",
        "\n",
        "def weather(city):\n",
        "    city=city.replace(\" \",\"+\")\n",
        "    res = requests.get(f'https://www.google.com/search?q={city}&oq={city}&aqs=chrome.0.35i39l2j0l4j46j69i60.6128j1j7&sourceid=chrome&ie=UTF-8',headers=headers)\n",
        "    soup = BeautifulSoup(res.text,'html.parser')   \n",
        "    location = soup.select('#wob_loc')[0].getText().strip()  \n",
        "    current_time = soup.select('#wob_dts')[0].getText().strip()       \n",
        "    info = soup.select('#wob_dc')[0].getText().strip() \n",
        "    weather = soup.select('#wob_tm')[0].getText().strip()\n",
        "    information = f\"{location} \\n {current_time} \\n {info} \\n {weather} °C \"\n",
        "        \n",
        "    toaster = ToastNotifier()\n",
        "    toaster.show_toast(\"Weather Information\",\n",
        "    f\"{information}\",\n",
        "    duration=10,\n",
        "    threaded=True)\n",
        "    while toaster.notification_active(): time.sleep(0.005)   \n",
        "\n",
        "# print(\"enter the city name\")\n",
        "# city=input()\n",
        "city = \"London\"\n",
        "city=city+\" weather\"\n",
        "weather(city)"
      ],
      "execution_count": 6,
      "outputs": []
    },
    {
      "cell_type": "markdown",
      "metadata": {
        "id": "2jPMa2Auplre"
      },
      "source": [
        "# 6. Sending Emails With Attachment"
      ]
    },
    {
      "cell_type": "code",
      "metadata": {
        "id": "Jvoa25mxpauS"
      },
      "source": [
        "import smtplib\n",
        "from email.mime.multipart import MIMEMultipart\n",
        "from email.mime.text import MIMEText\n",
        "from email.mime.base import MIMEBase\n",
        "from email import encoders\n",
        "body = '''\n",
        "Hello, Admin\n",
        "I am attaching The Sales Files With This Email.\n",
        "This Year We Got a Wooping 200% Profit One Our Sales.\n",
        "\n",
        "Regards,\n",
        "Team Sales\n",
        "xyz.com\n",
        "'''\n",
        "#Sender Email addresses and password\n",
        "senders_email = 'deltadelta371@gmail.com'\n",
        "sender_password = 'delta@371'\n",
        "reveiver_email = 'parasharabhay13@gmail.com'\n",
        "\n",
        "#MIME Setup\n",
        "message = MIMEMultipart()\n",
        "message['From'] = senders_email\n",
        "message['To'] = reveiver_email\n",
        "message['Subject'] = 'Sales Report 2021-- Team Sales'\n",
        "message.attach(MIMEText(body, 'plain'))\n",
        "\n",
        "## File\n",
        "attach_file_name = 'car-sales.csv'\n",
        "attach_file = open(attach_file_name, 'rb') \n",
        "payload = MIMEBase('application', 'octate-stream')\n",
        "payload.set_payload((attach_file).read())\n",
        "encoders.encode_base64(payload) \n",
        "payload.add_header('Content-Decomposition', 'attachment', filename=attach_file_name)\n",
        "message.attach(payload)\n",
        "\n",
        "#SMTP Connection For Sending Email\n",
        "session = smtplib.SMTP('smtp.gmail.com', 587) #use gmail with port\n",
        "session.starttls() #enable security\n",
        "session.login(senders_email, sender_password) #login with mail_id and password\n",
        "text = message.as_string()\n",
        "session.sendmail(senders_email, reveiver_email, text)\n",
        "session.quit()\n",
        "print('Mail Sent')"
      ],
      "execution_count": 7,
      "outputs": []
    },
    {
      "cell_type": "markdown",
      "metadata": {
        "id": "tIkWUvyTpohv"
      },
      "source": [
        "# 7. Shorting URLs"
      ]
    },
    {
      "cell_type": "code",
      "metadata": {
        "id": "ysQgy9sppnCO"
      },
      "source": [
        "from __future__ import with_statement\n",
        "import contextlib\n",
        "try:\n",
        "\tfrom urllib.parse import urlencode\n",
        "except ImportError:\n",
        "\tfrom urllib import urlencode\n",
        "try:\n",
        "\tfrom urllib.request import urlopen\n",
        "except ImportError:\n",
        "\tfrom urllib2 import urlopen\n",
        "import sys\n",
        "\n",
        "def make_tiny(url):\n",
        "\trequest_url = ('http://tinyurl.com/api-create.php?' + \n",
        "\turlencode({'url':url}))\n",
        "\twith contextlib.closing(urlopen(request_url)) as response:\n",
        "\t\treturn response.read().decode('utf-8')\n",
        "\n",
        "def main():\n",
        "\tfor tinyurl in map(make_tiny, sys.argv[1:]):\n",
        "\t\tprint(tinyurl)\n",
        "\n",
        "if __name__ == '__main__':\n",
        "\tmain()\n",
        "    \n",
        "\n",
        "'''\n",
        "\n",
        "-----------------------------OUTPUT------------------------\n",
        "python url_shortener.py https://www.wikipedia.org/\n",
        "https://tinyurl.com/buf3qt3\n",
        "\n",
        "'''\n"
      ],
      "execution_count": 8,
      "outputs": []
    },
    {
      "cell_type": "markdown",
      "metadata": {
        "id": "JGobNb2Gpvzx"
      },
      "source": [
        "# 8. Downloading Youtube Videos"
      ]
    },
    {
      "cell_type": "code",
      "metadata": {
        "id": "M4Ty6UQXpt_A"
      },
      "source": [
        "from pytube import  YouTube  \n",
        "import pytube  \n",
        "try:\n",
        "    video_url = 'https://www.youtube.com/watch?v=lTTajzrSkCw'   \n",
        "    youtube = pytube.YouTube(video_url)  \n",
        "    video = youtube.streams.first()  \n",
        "    video.download('C:/Users/abhay/Desktop/')  \n",
        "    print(\"Download Successfull !!\")\n",
        "except:\n",
        "    print(\"Something Went Wrong !!\")"
      ],
      "execution_count": 9,
      "outputs": []
    },
    {
      "cell_type": "markdown",
      "metadata": {
        "id": "22qq6B6dpy6Q"
      },
      "source": [
        "# 9. Cleaning Download Folder"
      ]
    },
    {
      "cell_type": "code",
      "metadata": {
        "id": "kaFueJMKp0Kt"
      },
      "source": [
        "import os\n",
        "folder_location = 'C:\\\\Users\\\\user\\\\Downloads\\\\demo'\n",
        "\n",
        "os.chdir(folder_location)\n",
        "list_of_files = os.listdir()\n",
        "\n",
        "## Selecting All Images\n",
        "images = [content for content in list_of_files if content.endswith(('.png','.jpg','.jpeg'))] \n",
        "\n",
        "for index, image in  enumerate(images):\n",
        "    os.rename(image,f'{index}.png')\n",
        "\n",
        "\n",
        "## Deleting All Images\n",
        "################## Write Your Script Here ######## Try To Create Your Own Code "
      ],
      "execution_count": 10,
      "outputs": []
    },
    {
      "cell_type": "markdown",
      "metadata": {
        "id": "6zSvOzsEp2h0"
      },
      "source": [
        "# 10. Sending Text Messages"
      ]
    },
    {
      "cell_type": "code",
      "metadata": {
        "id": "qctplvmNpxZb"
      },
      "source": [
        "import requests\n",
        "import json\n",
        "def send_sms(number, message):\n",
        "    url = 'https://www.fast2sms.com/dev/bulk'\n",
        "    params = {\n",
        "        'authorization': 'FIND_YOUR_OWN',\n",
        "        'sender_id': 'FSTSMS',\n",
        "        'message': message,\n",
        "        'language': 'english',\n",
        "        'route': 'p',\n",
        "        'numbers': number\n",
        "    }\n",
        "    response = requests.get(url, params=params)\n",
        "    dic = response.json()\n",
        "    #print(dic)\n",
        "    return dic.get('return')\n",
        "\n",
        "\n",
        "num = int(input(\"Enter The Number:\\n\"))\n",
        "msg = input(\"Enter The Message You Want To Send:\\n\")\n",
        "s = send_sms(num, msg)\n",
        "if s:\n",
        "    print(\"Successfully sent\")\n",
        "else:\n",
        "    print(\"Something went wrong..\")"
      ],
      "execution_count": 11,
      "outputs": []
    }
  ]
}
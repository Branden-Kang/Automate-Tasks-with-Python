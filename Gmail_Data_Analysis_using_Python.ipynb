{
  "nbformat": 4,
  "nbformat_minor": 0,
  "metadata": {
    "colab": {
      "name": "Gmail Data Analysis using Python.ipynb",
      "provenance": [],
      "authorship_tag": "ABX9TyOPrMz1O7Q3QhOUOkip1QRD"
    },
    "kernelspec": {
      "name": "python3",
      "display_name": "Python 3"
    },
    "language_info": {
      "name": "python"
    }
  },
  "cells": [
    {
      "cell_type": "markdown",
      "source": [
        "[Reference](https://medium.com/@hemanthponnada23/gmail-data-analysis-using-python-184cc4a8f35b)"
      ],
      "metadata": {
        "id": "6kg7-60fPyFW"
      }
    },
    {
      "cell_type": "code",
      "execution_count": null,
      "metadata": {
        "id": "5Gls3RUBPv83"
      },
      "outputs": [],
      "source": [
        "import imaplib\n",
        "import email\n",
        "import yaml"
      ]
    },
    {
      "cell_type": "code",
      "source": [
        "with open('credentials.yaml') as f:\n",
        " content = f.read()\n",
        "my_credentials = yaml.load(content, Loader = yaml.FullLoader)\n",
        "user, password = my_credentials['user'], my_credentials['password']"
      ],
      "metadata": {
        "id": "WBDwh2pcTkEZ"
      },
      "execution_count": null,
      "outputs": []
    },
    {
      "cell_type": "code",
      "source": [
        "imap_url = 'imap.gmail.com'\n",
        "my_mail = imaplib.IMAP4_SSL(imap_url)\n",
        "my_mail.login(user, password)"
      ],
      "metadata": {
        "id": "-X0K79JITlAh"
      },
      "execution_count": null,
      "outputs": []
    },
    {
      "cell_type": "code",
      "source": [
        "my_mail.select('Inbox')"
      ],
      "metadata": {
        "id": "qNs0nUuGTxBh"
      },
      "execution_count": null,
      "outputs": []
    },
    {
      "cell_type": "code",
      "source": [
        "data = my_mail.search(None, 'ALL')"
      ],
      "metadata": {
        "id": "dcGCXFClTycm"
      },
      "execution_count": null,
      "outputs": []
    },
    {
      "cell_type": "code",
      "source": [
        "mail_ids = data[1]\n",
        "id_list = mail_ids[0].split()\n",
        "len(id_list)#This should be equal to the total number of emails you have seen above\n",
        "first_email_id = int(id_list[0])\n",
        "latest_email_id = int(id_list[-1])"
      ],
      "metadata": {
        "id": "yx67x379T0mi"
      },
      "execution_count": null,
      "outputs": []
    },
    {
      "cell_type": "code",
      "source": [
        "import pandas as pd\n",
        "email_df = pd.DataFrame(columns=['Date','From', 'Subject','Status'], index=range(100000,first_email_id,-1))"
      ],
      "metadata": {
        "id": "U_b9ffUjT57l"
      },
      "execution_count": null,
      "outputs": []
    },
    {
      "cell_type": "code",
      "source": [
        "for i in range(100000,first_email_id, -1):\n",
        "    data = my_mail.fetch(str(i), '(RFC822)' )\n",
        "    for response_part in data:\n",
        "      arr = response_part[0]\n",
        "      if isinstance(arr, tuple):\n",
        "        msg = email.message_from_string(str(arr[1],'ISO-8859–1'))\n",
        "        print(i) #This will let you know what row is being appended\n",
        "        new_row = pd.Series({\"Date\":msg['Date'] , \"From\":msg['from']         , \"Subject\":msg['subject'], \"Status\":msg['X-Antivirus-Status'] })\n",
        "email_df = email_df.append(new_row, ignore_index=True)"
      ],
      "metadata": {
        "id": "LJM9Bl7lUvGs"
      },
      "execution_count": null,
      "outputs": []
    },
    {
      "cell_type": "code",
      "source": [
        "msg.keys()"
      ],
      "metadata": {
        "id": "YsqNWmhBUxH-"
      },
      "execution_count": null,
      "outputs": []
    },
    {
      "cell_type": "code",
      "source": [
        "from wordcloud import WordCloud, STOPWORDS\n",
        "text = email_df['Subject'].values\n",
        "stopwords = set(STOPWORDS)\n",
        "stopwords.update([\" \"]) #You can add stopwords if you have any \n",
        "wordcloud = WordCloud(stopwords=stopwords, background_color=\"white\", width=800, height=400).generate(str(text))\n",
        "plt.figure(figsize = (20, 20), facecolor = None) \n",
        "plt.imshow(wordcloud)\n",
        "plt.axis(\"off\")\n",
        "plt.show()"
      ],
      "metadata": {
        "id": "ndFXeUKTU5E-"
      },
      "execution_count": null,
      "outputs": []
    }
  ]
}
{
  "nbformat": 4,
  "nbformat_minor": 0,
  "metadata": {
    "colab": {
      "provenance": [],
      "authorship_tag": "ABX9TyNNANPssJvwUzyeFt2dYlsj"
    },
    "kernelspec": {
      "name": "python3",
      "display_name": "Python 3"
    },
    "language_info": {
      "name": "python"
    }
  },
  "cells": [
    {
      "cell_type": "markdown",
      "source": [
        "[Reference](https://medium.com/@antongw1p/how-to-send-automated-emails-via-gmail-with-python-with-10-or-so-lines-of-code-e1f400d50b2b)"
      ],
      "metadata": {
        "id": "eRnd9p2_e9n6"
      }
    },
    {
      "cell_type": "code",
      "execution_count": 1,
      "metadata": {
        "id": "losAzYtee8PR"
      },
      "outputs": [],
      "source": [
        "from email.mime.multipart import MIMEMultipart\n",
        "from email.mime.text import MIMEText\n",
        "import smtplib\n",
        "\n",
        "\n",
        "my_email = 'my_email@gmail.com'\n",
        "my_password = 'xxxxxxxx'\n",
        "customer_email = 'customer@gmail.com'\n",
        "\n",
        "message = MIMEMultipart()\n",
        "message['From'] = my_email\n",
        "message['To'] = customer_email\n",
        "message['Subject'] = \"The best email you'll ever read\"\n",
        "content = \"\"\"\n",
        "<html>\n",
        "  <head></head>\n",
        "  <body>\n",
        "    <h1>Hello There</h1>\n",
        "    <p>This is a very personalised and carefully crafted email</p>\n",
        "    <p>You should consider following @antongw1p (https://medium.com/@antongw1p) on Medium!</p>\n",
        "  </body>\n",
        "</html>\n",
        "\"\"\"\n",
        "message.attach(MIMEText(content, 'html'))"
      ]
    }
  ]
}
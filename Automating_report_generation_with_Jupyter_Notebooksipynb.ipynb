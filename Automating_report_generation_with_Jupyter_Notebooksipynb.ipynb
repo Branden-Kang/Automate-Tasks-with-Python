{
  "nbformat": 4,
  "nbformat_minor": 0,
  "metadata": {
    "colab": {
      "name": "Automating report generation with Jupyter Notebooksipynb",
      "provenance": [],
      "authorship_tag": "ABX9TyOZDHTaeekMF05KbfER2Ev/"
    },
    "kernelspec": {
      "name": "python3",
      "display_name": "Python 3"
    },
    "language_info": {
      "name": "python"
    }
  },
  "cells": [
    {
      "cell_type": "markdown",
      "metadata": {
        "id": "RjT3EaqIomRv"
      },
      "source": [
        "[Reference](https://medium.com/applied-data-science/full-stack-data-scientist-5-automating-report-generation-with-jupyter-notebooks-919e32e88d18)"
      ]
    },
    {
      "cell_type": "code",
      "metadata": {
        "colab": {
          "base_uri": "https://localhost:8080/",
          "height": 265
        },
        "id": "SPb0bX0dnRtW",
        "outputId": "9fc12d7d-92a0-48eb-cf13-830a8d981265"
      },
      "source": [
        "from scipy.stats import norm\n",
        "import matplotlib.pyplot as plt\n",
        "import numpy as np\n",
        "\n",
        "LOC = 0\n",
        "SCALE = 1\n",
        "r = norm.rvs(size=500, loc=LOC, scale=SCALE)\n",
        "\n",
        "fig, ax = plt.subplots(1, 1)\n",
        "x = np.linspace(norm.ppf(0.01, loc = LOC, scale = SCALE),\n",
        "                norm.ppf(0.99, loc = LOC, scale = SCALE), 100)\n",
        "ax.plot(x, norm.pdf(x, loc=LOC, scale=SCALE),\n",
        "        '-r', lw=5, alpha = 0.6, label='norm pdf')\n",
        "ax.hist(r, density=True)\n",
        "plt.show()"
      ],
      "execution_count": 4,
      "outputs": [
        {
          "output_type": "display_data",
          "data": {
            "image/png": "[encoded data removed]",
            "text/plain": [
              "<Figure size 432x288 with 1 Axes>"
            ]
          },
          "metadata": {
            "needs_background": "light"
          }
        }
      ]
    },
    {
      "cell_type": "code",
      "metadata": {
        "colab": {
          "base_uri": "https://localhost:8080/"
        },
        "id": "HlXcCC3ooGr4",
        "outputId": "94952e46-7738-46ad-da0e-93d6905325e4"
      },
      "source": [
        "print(\n",
        "    f\"\"\"Mean: {r.mean()},\n",
        "    Max: {r.max()},\n",
        "    Min: {r.min()},\n",
        "    Median: {np.median(r)},\n",
        "    STD: {np.std(r)}\n",
        "    \"\"\"\n",
        ")"
      ],
      "execution_count": 9,
      "outputs": [
        {
          "output_type": "stream",
          "name": "stdout",
          "text": [
            "Mean: 0.037129172829864346,\n",
            "    Max: 3.228010205050261,\n",
            "    Min: -2.852130059474442,\n",
            "    Median: 0.020128065328940015,\n",
            "    STD: 0.9823682040249744\n",
            "    \n"
          ]
        }
      ]
    },
    {
      "cell_type": "code",
      "metadata": {
        "id": "ObtlYrt4muaJ"
      },
      "source": [
        "import nbformat\n",
        "from nbconvert.preprocessors import ExecutePreprocessor\n",
        "from nbconvert.exporters import HTMLExporter\n",
        "\n",
        "def create_jupyter_report(mean: float, std: float):\n",
        "    # Load jupyter notebook into memory\n",
        "    with open('TEMPLATE-Report.ipynb', 'r') as f:\n",
        "        nb = nbformat.read(f, as_version=4)\n",
        "    # Replace placeholders\n",
        "    # Jupyter notebooks are just a JSON file, so we can use the usual\n",
        "    # method to find and replace values\n",
        "    # Replace mean (LOC)\n",
        "    nb['cells'][1]['source'] = nb['cells'][1]['source'].replace(\"'PUT_LOC_HERE'\",str(mean))\n",
        "    # Replace std (SCALE)\n",
        "    nb['cells'][1]['source'] = nb['cells'][1]['source'].replace(\"'PUT_SCALE_HERE'\",str(std))\n",
        "  \n",
        "    # Execute Notebook\n",
        "    proc = ExecutePreprocessor(timeout=600, kernel_name='python3')\n",
        "    proc.preprocess(nb)\n",
        "    \n",
        "    # Export to HTML file\n",
        "    exporter = HTMLExporter()\n",
        "    with open(f'Report_mean-{mean}_std-{std}.html', 'w') as f:\n",
        "        f.write(exporter.from_notebook_node(nb)[0])"
      ],
      "execution_count": 1,
      "outputs": []
    },
    {
      "cell_type": "code",
      "metadata": {
        "id": "8XESLXJynL0-"
      },
      "source": [
        "from create_jupyter_report import create_jupyter_report\n",
        "\n",
        "params = [\n",
        "  (10,1),\n",
        "  (5,2),\n",
        "  (100,10),\n",
        "  (35,4)\n",
        "]\n",
        "\n",
        "for p in params:\n",
        "  create_jupyter_report(mean=p[0], std=p[1])"
      ],
      "execution_count": 2,
      "outputs": []
    },
    {
      "cell_type": "code",
      "metadata": {
        "id": "dZhrWHqQnOn4"
      },
      "source": [
        ""
      ],
      "execution_count": null,
      "outputs": []
    }
  ]
}
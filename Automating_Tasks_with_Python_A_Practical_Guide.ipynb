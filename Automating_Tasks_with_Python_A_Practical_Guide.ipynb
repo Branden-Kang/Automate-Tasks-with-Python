{
  "nbformat": 4,
  "nbformat_minor": 0,
  "metadata": {
    "colab": {
      "provenance": [],
      "authorship_tag": "ABX9TyPjA1sXsF+FNiDA9oWrfZlv"
    },
    "kernelspec": {
      "name": "python3",
      "display_name": "Python 3"
    },
    "language_info": {
      "name": "python"
    }
  },
  "cells": [
    {
      "cell_type": "markdown",
      "source": [
        "[Reference](https://python.plainenglish.io/automating-tasks-with-python-a-practical-guide-ca4391844c01)"
      ],
      "metadata": {
        "id": "F0mFaUzZBWuz"
      }
    },
    {
      "cell_type": "markdown",
      "source": [
        "# 1. File Management"
      ],
      "metadata": {
        "id": "yVgs075DBZ6-"
      }
    },
    {
      "cell_type": "code",
      "execution_count": 1,
      "metadata": {
        "id": "rpgQLNNsAoKQ"
      },
      "outputs": [],
      "source": [
        "# Reading a file\n",
        "with open(\"example.txt\", \"r\") as file:\n",
        "    content = file.read()\n",
        "    print(content)\n",
        "\n",
        "# Writing to a file\n",
        "with open(\"example.txt\", \"w\") as file:\n",
        "    file.write(\"Hello, World!\")"
      ]
    },
    {
      "cell_type": "markdown",
      "source": [
        "# 2. Email Automation"
      ],
      "metadata": {
        "id": "P4PaEPQyBdOm"
      }
    },
    {
      "cell_type": "code",
      "source": [
        "import smtplib\n",
        "from email.mime.text import MIMEText\n",
        "\n",
        "msg = MIMEText(\"This is an automated email.\")\n",
        "msg['Subject'] = \"Automated Email\"\n",
        "msg['From'] = \"your_email@example.com\"\n",
        "msg['To'] = \"recipient@example.com\"\n",
        "\n",
        "with smtplib.SMTP('smtp.example.com', 587) as server:\n",
        "    server.starttls()\n",
        "    server.login(\"your_email@example.com\", \"your_password\")\n",
        "    server.send_message(msg)"
      ],
      "metadata": {
        "id": "2-Agocn4BbcH"
      },
      "execution_count": 2,
      "outputs": []
    },
    {
      "cell_type": "markdown",
      "source": [
        "# 3. Web Scraping"
      ],
      "metadata": {
        "id": "B496Pca3Bhra"
      }
    },
    {
      "cell_type": "code",
      "source": [
        "import requests\n",
        "from bs4 import BeautifulSoup\n",
        "\n",
        "url = 'http://example.com'\n",
        "response = requests.get(url)\n",
        "soup = BeautifulSoup(response.content, 'html.parser')\n",
        "\n",
        "# Extracting specific data\n",
        "data = soup.find_all('h1')\n",
        "for item in data:\n",
        "    print(item.text)"
      ],
      "metadata": {
        "colab": {
          "base_uri": "https://localhost:8080/"
        },
        "id": "1wgG-wYqBfKW",
        "outputId": "07a00426-e88b-465a-ad03-19e96c013edc"
      },
      "execution_count": 3,
      "outputs": [
        {
          "output_type": "stream",
          "name": "stdout",
          "text": [
            "Example Domain\n"
          ]
        }
      ]
    },
    {
      "cell_type": "markdown",
      "source": [
        "# 4. API Interactions"
      ],
      "metadata": {
        "id": "hrKqEZs-BluT"
      }
    },
    {
      "cell_type": "code",
      "source": [
        "import requests\n",
        "\n",
        "response = requests.get(\"https://api.example.com/data\")\n",
        "data = response.json()\n",
        "print(data)"
      ],
      "metadata": {
        "id": "X7MVYoOQBj-v"
      },
      "execution_count": 5,
      "outputs": []
    }
  ]
}
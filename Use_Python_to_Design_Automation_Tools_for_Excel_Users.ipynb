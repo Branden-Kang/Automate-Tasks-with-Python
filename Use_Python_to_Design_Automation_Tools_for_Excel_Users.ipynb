{
  "nbformat": 4,
  "nbformat_minor": 0,
  "metadata": {
    "colab": {
      "name": "Use Python to Design Automation Tools for Excel Users.ipynb",
      "provenance": [],
      "authorship_tag": "ABX9TyOI+kDUDTmsBsX9gt1NLo5I"
    },
    "kernelspec": {
      "name": "python3",
      "display_name": "Python 3"
    },
    "language_info": {
      "name": "python"
    }
  },
  "cells": [
    {
      "cell_type": "markdown",
      "metadata": {
        "id": "UjzXtTZsGqq2"
      },
      "source": [
        "[Reference](https://towardsdatascience.com/use-python-to-design-automation-tools-for-excel-users-e824b37c646d)"
      ]
    },
    {
      "cell_type": "markdown",
      "metadata": {
        "id": "sN7dTldfHUws"
      },
      "source": [
        "# 1. Scenario\n",
        "You are working as Data Scientist for a major retail company and your colleagues from the Supply Chain team request your support to analyze sales data.\n",
        "For this example, we’ll take a dataset from the Kaggle challenge: Store Item Demand Forecasting Challenge. I have been using this dataset for Store Demande Forecasting in another article (Link)."
      ]
    },
    {
      "cell_type": "markdown",
      "metadata": {
        "id": "JxW4_1NMJN4V"
      },
      "source": [
        "# 2. Solution\n"
      ]
    },
    {
      "cell_type": "code",
      "metadata": {
        "colab": {
          "base_uri": "https://localhost:8080/"
        },
        "id": "UtdksFh0FsW2",
        "outputId": "09175146-566f-4258-ee44-d87100aae6fe"
      },
      "source": [
        "import pandas as pd\n",
        "import numpy as np\n",
        "\n",
        "# Import Dataframe\n",
        "df = pd.read_csv('https://raw.githubusercontent.com/Branden-Kang/Python-practice/master/Data/sales_data.csv')\n",
        "print(\"{:,} transactions in your raw data\".format(len(df)))\n",
        "\n",
        "# Format Date\n",
        "print(\"Start Processing ...\")\n",
        "df['date'] = pd.to_datetime(df['date'])\n",
        "df['month'] = df['date'].dt.month\n",
        "df['year'] = df['date'].dt.year\n",
        "df['month-year'] = df[['month', 'year']].astype(str).apply(lambda t: t['month'].zfill(2) + '-' + t['year'], axis = 1)\n",
        "\n",
        "# month year columns\n",
        "my_cols = [str(i).zfill(2) + '-' + str(j) for j in range(2013, 2018) for i in range(1, 13)]\n",
        "\n",
        "# pivot by store item\n",
        "df_store = pd.pivot_table(df, values='sales', index=['store', 'item'],\n",
        "                    columns=['month-year'], aggfunc=np.sum).fillna(0)\n",
        "\n",
        "# sort by ascending order\n",
        "df_store.sort_values(['store', 'item'], ascending = [True, True], inplace = True)\n",
        "print(\"Processing is completed.\")\n",
        "print(\"{:,} lines in your final report\".format(len(df_store)))\n",
        "\n",
        "# reorder columns\n",
        "df_store = df_store[my_cols]\n",
        "\n",
        "# Final report\n",
        "print(\"Start saving report.\")\n",
        "df_store.to_excel('sales_report.xlsx')\n",
        "print(\"Your report is saved.\")"
      ],
      "execution_count": 4,
      "outputs": [
        {
          "output_type": "stream",
          "name": "stdout",
          "text": [
            "913,000 transactions in your raw data\n",
            "Start Processing ...\n",
            "Processing is completed.\n",
            "500 lines in your final report\n",
            "Start saving report.\n",
            "Your report is saved.\n"
          ]
        }
      ]
    },
    {
      "cell_type": "markdown",
      "metadata": {
        "id": "W8kDmNEEJK1B"
      },
      "source": [
        "# 3. Share this script using an executable file (.exe)\n"
      ]
    },
    {
      "cell_type": "code",
      "metadata": {
        "colab": {
          "base_uri": "https://localhost:8080/"
        },
        "id": "q2_1h7tmHLjw",
        "outputId": "19dcb115-9e24-46d1-ac3e-c532f7b21e15"
      },
      "source": [
        "pip install pyinstaller"
      ],
      "execution_count": 5,
      "outputs": [
        {
          "output_type": "stream",
          "name": "stdout",
          "text": [
            "Collecting pyinstaller\n",
            "  Downloading pyinstaller-4.5.1-py3-none-manylinux2014_x86_64.whl (1.5 MB)\n",
            "\u001b[K     |████████████████████████████████| 1.5 MB 8.4 MB/s \n",
            "\u001b[?25hCollecting pyinstaller-hooks-contrib>=2020.6\n",
            "  Downloading pyinstaller_hooks_contrib-2021.3-py2.py3-none-any.whl (200 kB)\n",
            "\u001b[K     |████████████████████████████████| 200 kB 55.1 MB/s \n",
            "\u001b[?25hRequirement already satisfied: setuptools in /usr/local/lib/python3.7/dist-packages (from pyinstaller) (57.4.0)\n",
            "Collecting altgraph\n",
            "  Downloading altgraph-0.17.2-py2.py3-none-any.whl (21 kB)\n",
            "Requirement already satisfied: importlib-metadata in /usr/local/lib/python3.7/dist-packages (from pyinstaller) (4.8.1)\n",
            "Requirement already satisfied: typing-extensions>=3.6.4 in /usr/local/lib/python3.7/dist-packages (from importlib-metadata->pyinstaller) (3.7.4.3)\n",
            "Requirement already satisfied: zipp>=0.5 in /usr/local/lib/python3.7/dist-packages (from importlib-metadata->pyinstaller) (3.6.0)\n",
            "Installing collected packages: pyinstaller-hooks-contrib, altgraph, pyinstaller\n",
            "Successfully installed altgraph-0.17.2 pyinstaller-4.5.1 pyinstaller-hooks-contrib-2021.3\n"
          ]
        }
      ]
    },
    {
      "cell_type": "code",
      "metadata": {
        "id": "efBN6TRCJRK5"
      },
      "source": [
        "!pyinstaller --onefile hello.py"
      ],
      "execution_count": 8,
      "outputs": []
    }
  ]
}
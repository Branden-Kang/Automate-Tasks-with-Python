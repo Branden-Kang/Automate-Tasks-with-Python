{
  "nbformat": 4,
  "nbformat_minor": 0,
  "metadata": {
    "colab": {
      "provenance": [],
      "authorship_tag": "ABX9TyNBpVWmKFRyAlx+pq4v2jY9"
    },
    "kernelspec": {
      "name": "python3",
      "display_name": "Python 3"
    },
    "language_info": {
      "name": "python"
    }
  },
  "cells": [
    {
      "cell_type": "markdown",
      "source": [
        "[Reference](https://medium.com/@devwebtuts_50448/python-email-automation-enhancing-efficiency-and-productivity-with-streamlined-operations-df07de61a2d)"
      ],
      "metadata": {
        "id": "xpHFgtnC57CX"
      }
    },
    {
      "cell_type": "code",
      "execution_count": null,
      "metadata": {
        "id": "GRnBoO991tR4"
      },
      "outputs": [],
      "source": [
        "import pandas as pd\n",
        "import smtplib\n",
        "from email.mime.multipart import MIMEMultipart\n",
        "from email.mime.text import MIMEText\n",
        "\n",
        "def read_excel(file_name):\n",
        "    data = pd.read_excel(file_name, engine='openpyxl')\n",
        "    return data\n",
        "\n",
        "def send_email(receiver_address, sender_address, sender_pass, subject, body):\n",
        "    msg = MIMEMultipart()\n",
        "    msg['From'] = sender_address\n",
        "    msg['To'] = receiver_address\n",
        "    msg['Subject'] = subject\n",
        "\n",
        "    msg.attach(MIMEText(body, 'plain'))\n",
        "\n",
        "    # Use the appropriate SMTP server\n",
        "    # For Gmail\n",
        "    server = smtplib.SMTP('smtp.gmail.com', 587)\n",
        "    # For Office 365\n",
        "    # server = smtplib.SMTP('smtp.office365.com', 587)\n",
        "    # For iCloud\n",
        "    # server = smtplib.SMTP('smtp.mail.me.com', 587)\n",
        "\n",
        "    server.starttls()\n",
        "    server.login(sender_address, sender_pass)\n",
        "\n",
        "    text = msg.as_string()\n",
        "    server.sendmail(sender_address, receiver_address, text)\n",
        "    server.quit()\n",
        "\n",
        "def automate_emails(data_frame, sender_address, sender_pass, subject):\n",
        "    for index, row in data_frame.iterrows():\n",
        "        send_email(row['email'], sender_address, sender_pass, subject, f\"Hello {row['name']},\\n{row['message']}\")\n",
        "\n",
        "data_frame = read_excel('emailsend.xlsx')\n",
        "\n",
        "# Replace 'your-email@gmail.com' and 'your-password' with your own credentials. Pass the app password as the third parameter.\n",
        "\n",
        "automate_emails(data_frame, '', '', '')"
      ]
    }
  ]
}
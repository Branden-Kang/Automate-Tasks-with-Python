{
  "nbformat": 4,
  "nbformat_minor": 0,
  "metadata": {
    "colab": {
      "provenance": [],
      "authorship_tag": "ABX9TyMuyqoFxRC4V1GX7BUL2b0Y"
    },
    "kernelspec": {
      "name": "python3",
      "display_name": "Python 3"
    },
    "language_info": {
      "name": "python"
    }
  },
  "cells": [
    {
      "cell_type": "markdown",
      "source": [
        "[Reference](https://medium.com/@alice.yang_10652/create-or-extract-tables-in-powerpoint-presentations-with-python-4dae200fa9d0)"
      ],
      "metadata": {
        "id": "A75i92aFyScI"
      }
    },
    {
      "cell_type": "code",
      "execution_count": 1,
      "metadata": {
        "colab": {
          "base_uri": "https://localhost:8080/"
        },
        "id": "24z5jRQ9yPr6",
        "outputId": "18c3920d-64a3-4bfb-eb1f-0c9f56ddab84"
      },
      "outputs": [
        {
          "output_type": "stream",
          "name": "stdout",
          "text": [
            "Collecting Spire.Presentation\n",
            "  Downloading Spire.Presentation-9.3.0-py3-none-manylinux1_x86_64.whl (36.6 MB)\n",
            "\u001b[2K     \u001b[90m━━━━━━━━━━━━━━━━━━━━━━━━━━━━━━━━━━━━━━━━\u001b[0m \u001b[32m36.6/36.6 MB\u001b[0m \u001b[31m8.9 MB/s\u001b[0m eta \u001b[36m0:00:00\u001b[0m\n",
            "\u001b[?25hCollecting plum-dispatch==1.7.4 (from Spire.Presentation)\n",
            "  Downloading plum_dispatch-1.7.4-py3-none-any.whl (24 kB)\n",
            "Installing collected packages: plum-dispatch, Spire.Presentation\n",
            "Successfully installed Spire.Presentation-9.3.0 plum-dispatch-1.7.4\n"
          ]
        }
      ],
      "source": [
        "pip install Spire.Presentation"
      ]
    },
    {
      "cell_type": "code",
      "source": [
        "from spire.presentation.common import *\n",
        "from spire.presentation import *\n",
        "import math\n",
        "\n",
        "# Create a new PowerPoint presentation\n",
        "presentation = Presentation()\n",
        "# If you want to load an existing presentation, add this line\n",
        "# presentation.LoadFromFile(\"input_file_path\")\n",
        "\n",
        "# Get the first slide in the presentation\n",
        "slide = presentation.Slides[0]\n",
        "\n",
        "# Define the widths of columns in the table\n",
        "column_widths = [110, 100, 150, 100]\n",
        "# Define the heights of rows in the table\n",
        "row_heights = [15, 15, 15, 15, 15, 15, 15, 15, 15, 15, 15]\n",
        "\n",
        "# Calculate the total width of the table\n",
        "total_width = sum(column_widths)\n",
        "\n",
        "# Specify the x and y coordinates to add the table\n",
        "x = math.trunc(presentation.SlideSize.Size.Width / float(2)) - (total_width / 2)\n",
        "y = 100\n",
        "\n",
        "# Add a table to the slide\n",
        "table = slide.Shapes.AppendTable(x, y, column_widths, row_heights)\n",
        "\n",
        "# Define the data for the table\n",
        "table_data = [\n",
        "    [\"Employee\", \"Department\", \"Job Title\", \"Salary\"],\n",
        "    [\"John Doe\", \"Sales\", \"Sales Manager\", \"$85,000\"],\n",
        "    [\"Jane Smith\", \"Marketing\", \"Marketing Coordinator\", \"$52,000\"],\n",
        "    [\"Bob Johnson\", \"IT\", \"Software Engineer\", \"$95,000\"],\n",
        "    [\"Emily Davis\", \"HR\", \"HR Specialist\", \"$62,000\"],\n",
        "    [\"Michael Wilson\", \"Finance\", \"Financial Analyst\", \"$78,000\"],\n",
        "    [\"Sarah Lee\", \"Operations\", \"Operations Manager\", \"$90,000\"],\n",
        "    [\"David Kim\", \"R&D\", \"Research Scientist\", \"$85,000\"],\n",
        "    [\"Olivia Chen\", \"Marketing\", \"Marketing Specialist\", \"$58,000\"],\n",
        "    [\"Tom Nguyen\", \"IT\", \"IT Support Technician\", \"$48,000\"],\n",
        "    [\"Samantha Brown\", \"HR\", \"Recruitment Coordinator\", \"$55,000\"]\n",
        "]\n",
        "\n",
        "# Populate the table with the data\n",
        "for i, row in enumerate(table_data):\n",
        "    for j, cell_value in enumerate(row):\n",
        "        table[j, i].TextFrame.Text = cell_value\n",
        "        # Set the font and font size for the text in each cell\n",
        "        table[j,i].TextFrame.Paragraphs[0].TextRanges[0].LatinFont = TextFont(\"Arial\")\n",
        "        table[j,i].TextFrame.Paragraphs[0].TextRanges[0].FontHeight = 12\n",
        "        # Center the text in each cell\n",
        "        table[j, i].TextFrame.Paragraphs[0].Alignment = TextAlignmentType.Center\n",
        "\n",
        "# Apply a built-in table style to the table\n",
        "table.StylePreset = TableStylePreset.LightStyle3Accent5\n",
        "\n",
        "# Save the PowerPoint presentation to a file\n",
        "presentation.SaveToFile(\"CreateTable.pptx\", FileFormat.Pptx2010)\n",
        "presentation.Dispose()"
      ],
      "metadata": {
        "id": "NsE64ijVyXNV"
      },
      "execution_count": 3,
      "outputs": []
    },
    {
      "cell_type": "code",
      "source": [
        "from spire.presentation.common import *\n",
        "from spire.presentation import *\n",
        "\n",
        "# Initialize an instance of the Presentation class\n",
        "presentation = Presentation()\n",
        "\n",
        "# Load a PowerPoint presentation containing tables\n",
        "presentation.LoadFromFile(\"CreateTable.pptx\")\n",
        "\n",
        "# Create a list to store the extracted table data\n",
        "table_data = []\n",
        "\n",
        "# Traverse through the slides in the presentation\n",
        "for slide in presentation.Slides:\n",
        "    # Traverse through the shapes on each slide\n",
        "    for shape in slide.Shapes:\n",
        "        # Check if the current shape is a table\n",
        "        if isinstance(shape, ITable):\n",
        "            table = shape\n",
        "\n",
        "            # Get the data of the cells in the table and append them to the list\n",
        "            table_data.extend([\" | \".join(cell.TextFrame.Text.strip() for cell in row) for row in table.TableRows])\n",
        "            table_data.append(\"\")\n",
        "\n",
        "# Write the table data to a text file\n",
        "with open(\"table.txt\", \"w\", encoding=\"utf-8\") as file:\n",
        "    file.write(\"\\n\".join(table_data))\n",
        "\n",
        "presentation.Dispose()"
      ],
      "metadata": {
        "id": "oDL7tplayiui"
      },
      "execution_count": 4,
      "outputs": []
    }
  ]
}
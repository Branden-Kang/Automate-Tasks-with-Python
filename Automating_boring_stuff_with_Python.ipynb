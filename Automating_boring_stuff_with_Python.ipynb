{
  "nbformat": 4,
  "nbformat_minor": 0,
  "metadata": {
    "colab": {
      "name": "Automating boring stuff with Python.ipynb",
      "provenance": [],
      "authorship_tag": "ABX9TyPOFzHJepGxdI6LfB8yPvSp"
    },
    "kernelspec": {
      "name": "python3",
      "display_name": "Python 3"
    },
    "language_info": {
      "name": "python"
    }
  },
  "cells": [
    {
      "cell_type": "markdown",
      "metadata": {
        "id": "dFnVZDVtqaUL"
      },
      "source": [
        "[Reference](https://sulove-rbista.medium.com/automating-boring-stuff-with-python-real-life-edition-d9e95deaee70)"
      ]
    },
    {
      "cell_type": "code",
      "metadata": {
        "id": "7q8QQm3vqYVK"
      },
      "source": [
        "import fitz\n",
        "import os\n",
        "os.chdir('./Certificates)\n",
        "files = os.listdir('.')\n",
        "for file in files:\n",
        "    if file.endswith('.pdf'):\n",
        "        filename = file.split('.')[0]\n",
        "        doc = fitz.open(file)\n",
        "        page = doc.loadPage(0)\n",
        "        pix = page.getPixmap()\n",
        "        output = \"{}.png\".format(filename)\n",
        "        pix.writePNG(output)\n",
        "        os.remove(file)"
      ],
      "execution_count": 1,
      "outputs": []
    }
  ]
}
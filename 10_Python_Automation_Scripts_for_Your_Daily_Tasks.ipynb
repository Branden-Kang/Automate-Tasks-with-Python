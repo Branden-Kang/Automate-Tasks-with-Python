{
  "nbformat": 4,
  "nbformat_minor": 0,
  "metadata": {
    "colab": {
      "name": "10 Python Automation Scripts for Your Daily Tasks.ipynb",
      "provenance": [],
      "authorship_tag": "ABX9TyM6ebqFCH+4IEIzuy0oMNVF"
    },
    "kernelspec": {
      "name": "python3",
      "display_name": "Python 3"
    },
    "language_info": {
      "name": "python"
    }
  },
  "cells": [
    {
      "cell_type": "markdown",
      "source": [
        "[Reference](https://python.plainenglish.io/10-python-automation-scripts-for-your-daily-tasks-205b91d6c676)"
      ],
      "metadata": {
        "id": "txztTWtdhshI"
      }
    },
    {
      "cell_type": "markdown",
      "source": [
        "# PDF Images Extraction\n"
      ],
      "metadata": {
        "id": "-KES86nopU-a"
      }
    },
    {
      "cell_type": "code",
      "execution_count": 1,
      "metadata": {
        "id": "pMuGj6_YhpJn"
      },
      "outputs": [],
      "source": [
        "# # PDF Images Extraction \n",
        "# # pip install PyMuPDF\n",
        "# from PIL import Image\n",
        "# import fitz\n",
        "# pdf = fitz.open(\"test.pdf\")\n",
        "# for x in range(len(pdf)):\n",
        "#     for images in pdf.getPageImageList(x):\n",
        "#         data = images[0]\n",
        "#         photo = fitz.Pixmap(pdf, data)\n",
        "#         if photo.n < 5:\n",
        "#             photo.writePNGf(f\"p{x}-{data}.png\")\n",
        "#         else:\n",
        "#             photo1 = fitz.Pixmap(fitz.csRGB, photo)\n",
        "#             photo1.writePNG(f\"p{x}-{data}.png\")\n",
        "#             photo1 = None\n",
        "#         photo = None"
      ]
    },
    {
      "cell_type": "markdown",
      "source": [
        "# Parse JSON"
      ],
      "metadata": {
        "id": "uVg7hNYTpX9a"
      }
    },
    {
      "cell_type": "code",
      "source": [
        "# # Read and Write JSON File\n",
        "# import json\n",
        "# # READ JSON\n",
        "# temp = '{\"name\": \"John\", \"age\": 30, \"city\": \"New York\", \"country\":{\"name\": \"USA\"}}'\n",
        "# # Parse Json\n",
        "# data = json.loads(temp)\n",
        "# print(data)\n",
        "# # Read Json File\n",
        "# f = open(\"test.json\", \"r\")\n",
        "# data = json.load(f)\n",
        "# print(data)\n",
        "# # Find Specific Value\n",
        "# print(data[\"name\"])\n",
        "# print(data[\"country\"][\"name\"])\n",
        "# # Print Json in Format\n",
        "# print(json.dumps(data, indent=4))\n",
        "# # Get Json Keys\n",
        "# print(data.keys())\n",
        "# # Get Json Values\n",
        "# print(data.values())\n",
        "# # Sort Json Data\n",
        "# print(sorted(data.keys()))\n",
        "# # WRITE JSON\n",
        "# # Write Json File\n",
        "# data = {\"name\": \"John\", \"age\": 30}\n",
        "# f = open(\"test.json\", \"w\")\n",
        "# json.dump(data, f, indent=4)\n",
        "# # Modify Json File\n",
        "# f = open(\"test.json\", \"r\")\n",
        "# data = json.load(f)\n",
        "# data[\"age\"] = 31\n",
        "# f = open(\"test.json\", \"w\")\n",
        "# json.dump(data, f, indent=4)\n",
        "# # Write sorted Json File\n",
        "# json.dump(data, f, indent=4, sort_keys=True)\n",
        "# # Write Json File with Custom Key\n",
        "# json.dump(data, f, indent=4, sort_keys=True, ensure_ascii=False)"
      ],
      "metadata": {
        "id": "KCPmUieIpXsP"
      },
      "execution_count": 2,
      "outputs": []
    },
    {
      "cell_type": "markdown",
      "source": [
        "# Password Protect PDF"
      ],
      "metadata": {
        "id": "HBI5xr1JpbaC"
      }
    },
    {
      "cell_type": "code",
      "source": [
        "# # Lock Your PDF Files\n",
        "# # pip install PyPDF2\n",
        "# from PyPDF2 import PdfFileReader, PdfFileWriter\n",
        "# import PyPDF2\n",
        "# pdf_file = open(\"test.pdf\",'rb')\n",
        "# pdf = PdfFileReader(pdf_file)\n",
        "# output_pdf = PdfFileWriter()\n",
        "# for i in range(pdf.numPages):\n",
        "#     pdf = PdfFileReader(pdf_file)\n",
        "#     output_pdf.addPage(pdf.getPage(i))\n",
        "#     output_pdf.encrypt('medium')\n",
        "#     with open(\"lock.pdf\", \"wb\") as output:\n",
        "#         output_pdf.write(output)"
      ],
      "metadata": {
        "id": "8daC5gz2paOV"
      },
      "execution_count": 3,
      "outputs": []
    },
    {
      "cell_type": "markdown",
      "source": [
        "# Lock Your Photos"
      ],
      "metadata": {
        "id": "ShnVvV09peDP"
      }
    },
    {
      "cell_type": "code",
      "source": [
        "# # Lock Your Photos\n",
        "# # pip install cryptography\n",
        "# from cryptography.fernet import Fernet\n",
        "# # LOCK YOUR PHOTOS\n",
        "# key = Fernet.generate_key()\n",
        "# with open('key.key', 'wb') as f:\n",
        "#     f.write(key)\n",
        "# fernet = Fernet(key)\n",
        "# with open('img.png', 'rb') as f:\n",
        "#     Photo = f.read()\n",
        "    \n",
        "# lock = fernet.encrypt(Photo)\n",
        "# with open('img.png', 'wb') as lock_Photo:\n",
        "#     lock_Photo.write(lock)\n",
        "# print(\"Your Photo is Locked\")\n",
        "\n",
        "# # UNLOCK YOUR PHOTOS\n",
        "# with open('key.key', 'rb') as f:\n",
        "#     key = f.read()\n",
        "# fernet = Fernet(key)\n",
        "# with open('img.png', 'rb') as f:\n",
        "#     Photo = f.read()\n",
        "    \n",
        "# lock = fernet.decrypt(Photo)\n",
        "# with open('test.txt', 'wb') as Unlock_Photo:\n",
        "#     Unlock_Photo.write(lock)\n",
        "# print(\"Your Photo is UnLocked\")"
      ],
      "metadata": {
        "id": "JuU7RrQppdMw"
      },
      "execution_count": 4,
      "outputs": []
    },
    {
      "cell_type": "markdown",
      "source": [
        "# Language Translator"
      ],
      "metadata": {
        "id": "GY8nFzuCpj3u"
      }
    },
    {
      "cell_type": "code",
      "source": [
        "# # Language Translation\n",
        "# # pip install googletrans\n",
        "# # pip install pyttsx3\n",
        "# # pip install speechrecognition\n",
        "# import googletrans\n",
        "# import speech_recognition as sr\n",
        "# import pyttsx3\n",
        "# def Translate_Text(text, source, target ):\n",
        "#     translator = googletrans.Translator()\n",
        "#     translation = translator.translate(text, src=source,  dest=target )\n",
        "#     print(translation.text)\n",
        "# def Translate_Voice():\n",
        "#     voice = sr.Recognizer()\n",
        "#     while(True):\n",
        "#         with sr.Microphone() as s:\n",
        "#             voice.adjust_for_ambient_noise(s, duration=0.2)\n",
        "#             audio = voice.listen(s)            \n",
        "#             text = voice.recognize_google(audio)\n",
        "#             text = text.lower()\n",
        "#             source = 'en'\n",
        "#             target = 'ja'\n",
        "#             translator = googletrans.Translator()\n",
        "#             translation = translator.translate( text, src=source, dest=target )\n",
        "#             engine = pyttsx3.init()\n",
        "#             engine.say(translation.text)\n",
        "#             engine.runAndWait()\n"
      ],
      "metadata": {
        "id": "vOiPrSs8pgXD"
      },
      "execution_count": 5,
      "outputs": []
    },
    {
      "cell_type": "markdown",
      "source": [
        "# Py Screen Recording"
      ],
      "metadata": {
        "id": "t0hYRwdqprHM"
      }
    },
    {
      "cell_type": "code",
      "source": [
        "# # Screen Recording\n",
        "# # pip install screen-recorder-sdk\n",
        "# # pip install numpy\n",
        "# # pip install keyboard\n",
        "# import sys, time\n",
        "# from screen_recorder_sdk import screen_recorder as Sr\n",
        "# import keyboard\n",
        "# Sr.enable_dev_log () \n",
        "# params = Sr.RecorderParams ()\n",
        "# Sr.init_resources (params)\n",
        "# while True:\n",
        "#     if keyboard.is_pressed('ctrl+r'):\n",
        "# print('Video Recording is Started')\n",
        "#         Sr.start_video_recording ('sample.mp4', 30, 8000000, True)\n",
        "            \n",
        "#         while True:\n",
        "#             if keyboard.is_pressed('ctrl+q'):\n",
        "#                 break\n",
        "#         Sr.stop_video_recording ()\n",
        "#         print('Video Recording Stopped')\n",
        "#         break"
      ],
      "metadata": {
        "id": "UsVDa_ETpqIA"
      },
      "execution_count": 6,
      "outputs": []
    },
    {
      "cell_type": "markdown",
      "source": [
        "# Automate Word and PPT"
      ],
      "metadata": {
        "id": "qN67DHFJpuli"
      }
    },
    {
      "cell_type": "code",
      "source": [
        "# # Automate Word and PPT\n",
        "# # pip install python-docx\n",
        "# # pip install python-pptx\n",
        "# # Automate Ms Word\n",
        "# import docx\n",
        "# from docx import Document\n",
        "# from docx.shared import Inches\n",
        "# # Read docx file\n",
        "# docx = docx.Document('test.docx')\n",
        "# for p in docx.paragraphs:\n",
        "#     print(p.text)\n",
        "# # Get length of paragraph\n",
        "# print(len(docx.paragraphs))\n",
        "# # Get length of words\n",
        "# print(len(docx.paragraphs[0].text.split()))\n",
        "# # Get length of sentences\n",
        "# print(len(docx.paragraphs[0].text.split('.')))\n",
        "# # Write docx file\n",
        "# Doc = Document()\n",
        "# Doc.add_heading('Heading', 0)\n",
        "# # add paragraph\n",
        "# Doc.add_paragraph('Hello World')\n",
        "# # add images\n",
        "# Doc.add_picture('test.png', width=Inches(1.25))\n",
        "# # add sentences\n",
        "# Doc.add_run('This is a run.').bold = True\n",
        "# # add page break\n",
        "# Doc.add_page_break()\n",
        "# # Add tables\n",
        "# table = Doc.add_table(rows=1, cols=3)\n",
        "# hdr_cells = table.rows[0].cells\n",
        "# hdr_cells[0].text = 'Qty'\n",
        "# hdr_cells[1].text = 'Id'\n",
        "# # Save docx file\n",
        "# Doc.save('test.docx')\n",
        "# # Automate PPT\n",
        "# import pptx\n",
        "# from pptx import Presentation\n",
        "# # Extract Text from PPT\n",
        "# prs = pptx.Presentation('test.pptx')\n",
        "# for s in prs.slides:\n",
        "#     for shape in s.shapes:\n",
        "#         if not shape.has_text_frame:\n",
        "#             continue\n",
        "#         for p in shape.text_frame.paragraphs:\n",
        "#             print(p.text)\n",
        "# # Write PPT\n",
        "# prs = Presentation()\n",
        "# # Add Title to PPT\n",
        "# title_slide_layout = prs.slide_layouts[0]\n",
        "# slide = prs.slides.add_slide(title_slide_layout)\n",
        "# title = slide.shapes.title\n",
        "# title.text = 'Hello World'\n",
        "# # Add Images to PPT\n",
        "# left = top = width = height = Inches(1.25)\n",
        "# pic = slide.shapes.add_picture('test.png', left, top, width, height)\n",
        "# # Add Text to PPT\n",
        "# slide.placeholders[0].text = 'Hello World'\n",
        "# # Save PPT\n",
        "# prs.save('test.pptx')"
      ],
      "metadata": {
        "id": "xEw7BEu0ptjT"
      },
      "execution_count": 7,
      "outputs": []
    },
    {
      "cell_type": "markdown",
      "source": [
        "# Python Gui with PySide2"
      ],
      "metadata": {
        "id": "IBbCgskEp1QS"
      }
    },
    {
      "cell_type": "code",
      "source": [
        "# # Python Gui with PySide\n",
        "# # pip install PySide2\n",
        "# import PySide2\n",
        "# from PySide2.QtWidgets import *\n",
        "# from PySide2.QtGui import QPixmap, QPen, QPainter\n",
        "# from PySide2.QtCore import *\n",
        "# def App():\n",
        "#     root = QApplication([])\n",
        "#     window = QMainWindow()\n",
        "# # Resize and Set Title \n",
        "#     window.setWindowTitle(\"Test\")\n",
        "#     window.resize(300, 200)\n",
        "# # Create Label Text\n",
        "#     text_label = QLabel(\"Pyside Label\")\n",
        "    \n",
        "#     # Create Buttons\n",
        "#     button = QPushButton(\"Button 1\")\n",
        "# # Create Line Edit\n",
        "#     line_edit = QLineEdit()\n",
        "    \n",
        "#     # Position Widgets\n",
        "#     text_label.move(10, 10)\n",
        "#     button.move(10, 50)\n",
        "#     line_edit.move(10, 100)\n",
        "# # Radio Button\n",
        "#     radio_button = QRadioButton(\"Radio Button 1\")\n",
        "#     radio_button.move(10, 150)\n",
        "# # Add Photo\n",
        "#     photo = QLabel()\n",
        "#     photo.setPixmap(QPixmap(\"photo.jpg\"))\n",
        "#     photo.move(100, 100)\n",
        "# # Check Box\n",
        "#     checkbox = QCheckBox(\"Medium Checkbox\")\n",
        "#     checkbox.move(10, 200)\n",
        "# # Change Background Color\n",
        "#     window.setStyleSheet(\"background-color: red\")\n",
        "# # Progress Bar\n",
        "#     progress_bar = QProgressBar()\n",
        "#     progress_bar.setValue(50)\n",
        "#     progress_bar.move(10, 200)\n",
        "# # Screen Spliter\n",
        "#     splitter = QSplitter()\n",
        "#     splitter.setOrientation(PySide2.QtCore.Qt.Horizontal)\n",
        "#     splitter.addWidget(text_label)\n",
        "#     splitter.addWidget(button)\n",
        "# # Menu Bar\n",
        "#     menu_bar = QMenuBar()\n",
        "#     menu_bar.setNativeMenuBar(False)\n",
        "#     menu_bar.addMenu(\"File\")\n",
        "#     menu_bar.addMenu(\"Edit\")\n",
        "# # Drawing Text\n",
        "#     painter = QPainter()\n",
        "#     painter.begin(photo)\n",
        "#     painter.setPen(QPen(Qt.red, 5))\n",
        "#     painter.drawText(photo.rect(), Qt.AlignCenter, \"Hello World\")\n",
        "#     painter.end()\n",
        "# window.show()\n",
        "#     root.exec_()\n",
        "# App()"
      ],
      "metadata": {
        "id": "Y2hRe-bmpxIJ"
      },
      "execution_count": 8,
      "outputs": []
    },
    {
      "cell_type": "markdown",
      "source": [
        "# OCR to Text"
      ],
      "metadata": {
        "id": "EUyKbt8kp4rY"
      }
    },
    {
      "cell_type": "code",
      "source": [
        "# # OCR with Python\n",
        "# # pip install pytesseract\n",
        "# # pip install Pillow\n",
        "# # pip install opencv-python\n",
        "# import pytesseract as tess\n",
        "# from PIL import Image\n",
        "# import cv2\n",
        "# # OCR to Text\n",
        "# image = cv2.imread('test.jpg')\n",
        "# text = tess.image_to_string(image)\n",
        "# print(text)\n",
        "# # Set Option\n",
        "# config = r'-l eng --oem 1 --psm 3'\n",
        "# text = tess.image_to_string(image, config=config)\n",
        "# print(text)\n",
        "# # Remove noise\n",
        "# image = cv2.imread('test.jpg')\n",
        "# image = cv2.cvtColor(image, cv2.COLOR_BGR2GRAY)\n",
        "# image = cv2.threshold(image, 0, 255, cv2.THRESH_BINARY | cv2.THRESH_OTSU)[1]\n",
        "# text = tess.image_to_string(image)\n",
        "# print(text)"
      ],
      "metadata": {
        "id": "S7CsK8crp3ir"
      },
      "execution_count": 9,
      "outputs": []
    },
    {
      "cell_type": "markdown",
      "source": [
        "# Photo to Sketch"
      ],
      "metadata": {
        "id": "GEr71Yohp71T"
      }
    },
    {
      "cell_type": "code",
      "source": [
        "# # Image to Sketch\n",
        "# # pip install Pillow\n",
        "# # pip install opencv-python\n",
        "# import cv2\n",
        "# photo=cv2.imread(\"test.jpg\")\n",
        "    \n",
        "# greyscale=cv2.cvtColor(photo, cv2.COLOR_BGR2GRAY)\n",
        "# invert=cv2.bitwise_not(greyscale)\n",
        "# blur=cv2.GaussianBlur(invert, (10,10),0)\n",
        "# invert_blur=cv2.bitwise_not(blur)\n",
        "# sketch=cv2.divide(greyscale,invert_blur, scale=250.0)\n",
        "# cv2.imwrite('Photo_Sketch.png', sketch)\n",
        "# cv2.waitKey(0)\n",
        "# cv2.destroyAllWindows()"
      ],
      "metadata": {
        "id": "3y6PfrbXp60C"
      },
      "execution_count": 10,
      "outputs": []
    }
  ]
}
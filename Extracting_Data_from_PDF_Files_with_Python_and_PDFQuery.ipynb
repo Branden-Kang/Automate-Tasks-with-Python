{
  "nbformat": 4,
  "nbformat_minor": 0,
  "metadata": {
    "colab": {
      "provenance": [],
      "authorship_tag": "ABX9TyO+qYfGGvRx9OgJ1Kh8F8NM"
    },
    "kernelspec": {
      "name": "python3",
      "display_name": "Python 3"
    },
    "language_info": {
      "name": "python"
    }
  },
  "cells": [
    {
      "cell_type": "markdown",
      "source": [
        "[Reference](https://python.plainenglish.io/extracting-data-from-pdf-files-with-python-and-pdfquery-de84e9232b62)"
      ],
      "metadata": {
        "id": "RCC0L7GKc2J_"
      }
    },
    {
      "cell_type": "code",
      "execution_count": 1,
      "metadata": {
        "colab": {
          "base_uri": "https://localhost:8080/"
        },
        "id": "wunA9pMXXngK",
        "outputId": "fcdab7c5-c81d-4f32-8661-ad4770832d04"
      },
      "outputs": [
        {
          "output_type": "stream",
          "name": "stdout",
          "text": [
            "Looking in indexes: https://pypi.org/simple, https://us-python.pkg.dev/colab-wheels/public/simple/\n",
            "Collecting pdfquery\n",
            "  Downloading pdfquery-0.4.3.tar.gz (17 kB)\n",
            "Collecting cssselect>=0.7.1\n",
            "  Downloading cssselect-1.2.0-py2.py3-none-any.whl (18 kB)\n",
            "Requirement already satisfied: chardet in /usr/local/lib/python3.8/dist-packages (from pdfquery) (3.0.4)\n",
            "Requirement already satisfied: lxml>=3.0 in /usr/local/lib/python3.8/dist-packages (from pdfquery) (4.9.1)\n",
            "Collecting pdfminer.six\n",
            "  Downloading pdfminer.six-20221105-py3-none-any.whl (5.6 MB)\n",
            "\u001b[K     |████████████████████████████████| 5.6 MB 6.6 MB/s \n",
            "\u001b[?25hCollecting pyquery>=1.2.2\n",
            "  Downloading pyquery-1.4.3-py3-none-any.whl (22 kB)\n",
            "Collecting roman>=1.4.0\n",
            "  Downloading roman-3.3-py2.py3-none-any.whl (3.9 kB)\n",
            "Requirement already satisfied: charset-normalizer>=2.0.0 in /usr/local/lib/python3.8/dist-packages (from pdfminer.six->pdfquery) (2.1.1)\n",
            "Collecting cryptography>=36.0.0\n",
            "  Downloading cryptography-38.0.4-cp36-abi3-manylinux_2_24_x86_64.whl (4.0 MB)\n",
            "\u001b[K     |████████████████████████████████| 4.0 MB 32.2 MB/s \n",
            "\u001b[?25hRequirement already satisfied: cffi>=1.12 in /usr/local/lib/python3.8/dist-packages (from cryptography>=36.0.0->pdfminer.six->pdfquery) (1.15.1)\n",
            "Requirement already satisfied: pycparser in /usr/local/lib/python3.8/dist-packages (from cffi>=1.12->cryptography>=36.0.0->pdfminer.six->pdfquery) (2.21)\n",
            "Building wheels for collected packages: pdfquery\n",
            "  Building wheel for pdfquery (setup.py) ... \u001b[?25l\u001b[?25hdone\n",
            "  Created wheel for pdfquery: filename=pdfquery-0.4.3-py3-none-any.whl size=16797 sha256=5fc028a2819a7477df8b9321936362ae3242423cb48db023380c43853fe65e5f\n",
            "  Stored in directory: /root/.cache/pip/wheels/07/60/73/6ee0361ffc4be89a46bd8dd8673d66ea8a3c278efefdee39e9\n",
            "Successfully built pdfquery\n",
            "Installing collected packages: cssselect, cryptography, roman, pyquery, pdfminer.six, pdfquery\n",
            "Successfully installed cryptography-38.0.4 cssselect-1.2.0 pdfminer.six-20221105 pdfquery-0.4.3 pyquery-1.4.3 roman-3.3\n",
            "Looking in indexes: https://pypi.org/simple, https://us-python.pkg.dev/colab-wheels/public/simple/\n",
            "Requirement already satisfied: pandas in /usr/local/lib/python3.8/dist-packages (1.3.5)\n",
            "Requirement already satisfied: pytz>=2017.3 in /usr/local/lib/python3.8/dist-packages (from pandas) (2022.6)\n",
            "Requirement already satisfied: numpy>=1.17.3 in /usr/local/lib/python3.8/dist-packages (from pandas) (1.21.6)\n",
            "Requirement already satisfied: python-dateutil>=2.7.3 in /usr/local/lib/python3.8/dist-packages (from pandas) (2.8.2)\n",
            "Requirement already satisfied: six>=1.5 in /usr/local/lib/python3.8/dist-packages (from python-dateutil>=2.7.3->pandas) (1.15.0)\n"
          ]
        }
      ],
      "source": [
        "!pip install pdfquery\n",
        "!pip install pandas"
      ]
    },
    {
      "cell_type": "code",
      "source": [
        "import pdfquery\n",
        "import pandas as pd"
      ],
      "metadata": {
        "id": "i-sfoXNZc4sZ"
      },
      "execution_count": 2,
      "outputs": []
    },
    {
      "cell_type": "code",
      "source": [
        "# Upload pdf files from the local drive.\n",
        "from google.colab import files\n",
        "\n",
        "uploaded = files.upload()\n",
        "\n",
        "pdf = pdfquery.PDFQuery('patient1pdf.pdf')\n",
        "pdf.load()\n",
        "\n",
        "pdf.tree.write('patient1xml.xml', pretty_print = True)\n",
        "pdf\n",
        "\n",
        "patient_name = pdf.pq('LTTextLineHorizontal:in_bbox(\"72.0, 543.657, 205.474, 554.657\")').text()\n",
        "patient_name\n",
        "\n",
        "def clean_text_data(text):\n",
        " return text.split(':')[1]\n",
        "\n",
        "patient_name = clean_text_data(pdf.pq('LTTextLineHorizontal:contains(\"Patient Name\")').text())\n",
        "patient_name\n",
        "\n",
        "import pdfquery\n",
        "import pandas as pd\n",
        "\n",
        "pdf_files = ['patient1pdf.pdf','patient2pdf.pdf','patient3pdf.pdf']\n",
        "\n",
        "def clean_text_data(text):\n",
        "  return text.split(':')[1]\n",
        "\n",
        "\n",
        "def pdf_to_df(pdf_files):\n",
        "\n",
        "        patient_data = {\"Patient Number\": [],\n",
        "                       \"Patient Name\": [],\n",
        "                       \"DOB\": [],\n",
        "                       \"Diagnosis\": [],\n",
        "                       \"Treatment\": [],\n",
        "                       \"Recommendation\": []}\n",
        "\n",
        "        for i in pdf_files: \n",
        "                pdf = pdfquery.PDFQuery(i)\n",
        "                pdf.load()\n",
        "\n",
        "                patient_data[\"Patient Number\"].append(clean_text_data(pdf.pq('LTText\\LineHorizontal:contains(\"Patient Number\")').text()))\n",
        "\n",
        "                patient_data[\"Patient Name\"].append(clean_text_data(pdf.pq('LTText\\LineHorizontal:contains(\"Patient Name\")').text()))\n",
        "\n",
        "                patient_data[\"DOB\"].append(clean_text_data(pdf.pq('LTText\\LineHorizontal:contains(\"DOB\")').text()))\n",
        "\n",
        "                patient_data[\"Diagnosis\"].append(clean_text_data(pdf.pq('LTText\\LineHorizontal:contains(\"Diagnosis\")').text()))\n",
        "\n",
        "                patient_data[\"Treatment\"].append(clean_text_data(pdf.pq('LTText\\LineHorizontal:contains(\"Treatment\")').text()))\n",
        "\t\t\t\t                                         \n",
        "                patient_data[\"Recommendation\"].append(clean_text_data(pdf.pq('LTText\\LineHorizontal:contains(\"Recommendation\")').text()))\n",
        "\n",
        "\n",
        "        columns=[\"Patient Number\",\"Patient Name\",\"DOB\",\"Diagnosis\",\"Treatment\",\"Recommendation\"]\n",
        "\n",
        "        pdata = pd.DataFrame.from_dict(patient_data)\n",
        "        pdata = pdata[columns]\n",
        "        \n",
        "        return pdata \t \n",
        "\n",
        "pdata = pdf_to_df(pdf_files)\n",
        "pdata"
      ],
      "metadata": {
        "id": "BAw_ZKvrc5uu"
      },
      "execution_count": null,
      "outputs": []
    }
  ]
}
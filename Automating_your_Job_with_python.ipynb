{
  "nbformat": 4,
  "nbformat_minor": 0,
  "metadata": {
    "colab": {
      "provenance": [],
      "authorship_tag": "ABX9TyPc5NW2mE0tZL9m+6ADaCcO"
    },
    "kernelspec": {
      "name": "python3",
      "display_name": "Python 3"
    },
    "language_info": {
      "name": "python"
    }
  },
  "cells": [
    {
      "cell_type": "markdown",
      "source": [
        "[Reference](https://medium.com/@lukas.forst/automating-your-job-with-python-89b8878cdef1)"
      ],
      "metadata": {
        "id": "_x-sf4GcLPLM"
      }
    },
    {
      "cell_type": "code",
      "execution_count": 1,
      "metadata": {
        "colab": {
          "base_uri": "https://localhost:8080/"
        },
        "id": "UtFd9MDyLNlq",
        "outputId": "c1510ea7-016c-48b4-c757-5ad343650e7a"
      },
      "outputs": [
        {
          "output_type": "stream",
          "name": "stdout",
          "text": [
            "Collecting docxtpl\n",
            "  Downloading docxtpl-0.16.7-py2.py3-none-any.whl (28 kB)\n",
            "Requirement already satisfied: six in /usr/local/lib/python3.10/dist-packages (from docxtpl) (1.16.0)\n",
            "Collecting python-docx (from docxtpl)\n",
            "  Downloading python-docx-0.8.11.tar.gz (5.6 MB)\n",
            "\u001b[?25l     \u001b[90m━━━━━━━━━━━━━━━━━━━━━━━━━━━━━━━━━━━━━━━━\u001b[0m \u001b[32m0.0/5.6 MB\u001b[0m \u001b[31m?\u001b[0m eta \u001b[36m-:--:--\u001b[0m\r\u001b[2K     \u001b[91m━━━━━━━━━━━━━━━━━━━━━━━━━━━\u001b[0m\u001b[91m╸\u001b[0m\u001b[90m━━━━━━━━━━━━\u001b[0m \u001b[32m3.9/5.6 MB\u001b[0m \u001b[31m116.6 MB/s\u001b[0m eta \u001b[36m0:00:01\u001b[0m\r\u001b[2K     \u001b[91m━━━━━━━━━━━━━━━━━━━━━━━━━━━━━━━━━━━━━━━\u001b[0m\u001b[91m╸\u001b[0m \u001b[32m5.6/5.6 MB\u001b[0m \u001b[31m129.1 MB/s\u001b[0m eta \u001b[36m0:00:01\u001b[0m\r\u001b[2K     \u001b[90m━━━━━━━━━━━━━━━━━━━━━━━━━━━━━━━━━━━━━━━━\u001b[0m \u001b[32m5.6/5.6 MB\u001b[0m \u001b[31m76.0 MB/s\u001b[0m eta \u001b[36m0:00:00\u001b[0m\n",
            "\u001b[?25h  Preparing metadata (setup.py) ... \u001b[?25l\u001b[?25hdone\n",
            "Collecting docxcompose (from docxtpl)\n",
            "  Downloading docxcompose-1.4.0.tar.gz (20 kB)\n",
            "  Preparing metadata (setup.py) ... \u001b[?25l\u001b[?25hdone\n",
            "Requirement already satisfied: jinja2 in /usr/local/lib/python3.10/dist-packages (from docxtpl) (3.1.2)\n",
            "Requirement already satisfied: lxml in /usr/local/lib/python3.10/dist-packages (from docxtpl) (4.9.3)\n",
            "Requirement already satisfied: setuptools in /usr/local/lib/python3.10/dist-packages (from docxcompose->docxtpl) (67.7.2)\n",
            "Requirement already satisfied: babel in /usr/local/lib/python3.10/dist-packages (from docxcompose->docxtpl) (2.12.1)\n",
            "Requirement already satisfied: MarkupSafe>=2.0 in /usr/local/lib/python3.10/dist-packages (from jinja2->docxtpl) (2.1.3)\n",
            "Building wheels for collected packages: docxcompose, python-docx\n",
            "  Building wheel for docxcompose (setup.py) ... \u001b[?25l\u001b[?25hdone\n",
            "  Created wheel for docxcompose: filename=docxcompose-1.4.0-py3-none-any.whl size=23268 sha256=5f1af6976c5fd0994a56ce1c5340fd24a19ee49446af8d8595eb46e01f73aab3\n",
            "  Stored in directory: /root/.cache/pip/wheels/28/0e/78/2dc28f2d5b192d1a3ec237ec60e9d65654a078dfe07ce3a714\n",
            "  Building wheel for python-docx (setup.py) ... \u001b[?25l\u001b[?25hdone\n",
            "  Created wheel for python-docx: filename=python_docx-0.8.11-py3-none-any.whl size=184491 sha256=e4452fc8cf97c5e60c08022bea32ce68a4053772dfd9f2eaa9122de819040dbe\n",
            "  Stored in directory: /root/.cache/pip/wheels/80/27/06/837436d4c3bd989b957a91679966f207bfd71d358d63a8194d\n",
            "Successfully built docxcompose python-docx\n",
            "Installing collected packages: python-docx, docxcompose, docxtpl\n",
            "Successfully installed docxcompose-1.4.0 docxtpl-0.16.7 python-docx-0.8.11\n"
          ]
        }
      ],
      "source": [
        "pip install docxtpl"
      ]
    },
    {
      "cell_type": "code",
      "source": [
        "from docxtpl import DocxTemplate\n",
        "from datetime import date, datetime\n",
        "\n",
        "\n",
        "# Load the template file\n",
        "template = DocxTemplate(\"Evaluation_template.docx\")\n",
        "\n",
        "# Create a context dictionary with data to be inserted into the template\n",
        "context = {\n",
        "    'employee_name': 'John Doe',\n",
        "    'start_date': date(2023, 1, 1).strftime(\"%d.%m.%Y\"),\n",
        "    'end_date': date(2023, 3, 31).strftime(\"%d.%m.%Y\"),\n",
        "    'tedate': datetime.now().strftime(\"%d.%m.%Y\"),\n",
        "    'score': 85,\n",
        "    'manager_name': 'Jane Smith'\n",
        "}\n",
        "\n",
        "# Render the template with the context data\n",
        "template.render(context)\n",
        "\n",
        "# Save the generated document to a new file\n",
        "template.save(f\"Evaluation_{context['employee_name']}.docx\")"
      ],
      "metadata": {
        "id": "vxKqGfbjLScl"
      },
      "execution_count": 2,
      "outputs": []
    }
  ]
}
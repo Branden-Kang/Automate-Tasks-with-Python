{
  "nbformat": 4,
  "nbformat_minor": 0,
  "metadata": {
    "colab": {
      "provenance": [],
      "authorship_tag": "ABX9TyM0OFD+FjRviEhd2I3+KArk"
    },
    "kernelspec": {
      "name": "python3",
      "display_name": "Python 3"
    },
    "language_info": {
      "name": "python"
    }
  },
  "cells": [
    {
      "cell_type": "markdown",
      "source": [
        "[Reference](https://python.plainenglish.io/how-does-python-complete-automatic-task-scheduling-dd852cc263b8)"
      ],
      "metadata": {
        "id": "JEkMwOMAij7K"
      }
    },
    {
      "cell_type": "markdown",
      "source": [
        "# Task Scheduling in Python\n"
      ],
      "metadata": {
        "id": "aBIgnoQBipSf"
      }
    },
    {
      "cell_type": "code",
      "source": [
        "# pip install schedule"
      ],
      "metadata": {
        "id": "dK4WBVkciyuO"
      },
      "execution_count": 4,
      "outputs": []
    },
    {
      "cell_type": "code",
      "execution_count": 5,
      "metadata": {
        "id": "aw4vB1fBiiI8"
      },
      "outputs": [],
      "source": [
        "# import time\n",
        "# import schedule\n",
        "\n",
        "\n",
        "# def send_message():\n",
        "#     # The operation of sending a message can be added here\n",
        "#     print(\"Sending message...\")\n",
        "\n",
        "\n",
        "# schedule.every().day.at(\"15:25\").do(send_message)\n",
        "\n",
        "# while True:\n",
        "#     schedule.run_pending()\n",
        "#     time.sleep(1)"
      ]
    },
    {
      "cell_type": "markdown",
      "source": [
        "# Dispatching with decorators\n"
      ],
      "metadata": {
        "id": "nlW87pV4irCK"
      }
    },
    {
      "cell_type": "code",
      "source": [
        "# import time\n",
        "# from schedule import repeat, every, run_pending\n",
        "\n",
        "\n",
        "# @repeat(every(10).seconds)\n",
        "# @repeat(every(5).seconds)\n",
        "# def send_message():\n",
        "#     # The operation of sending a message can be added here\n",
        "#     print(\"Sending message...\")\n",
        "\n",
        "\n",
        "# while True:\n",
        "#     run_pending()\n",
        "#     time.sleep(1)"
      ],
      "metadata": {
        "id": "R5ZOgO4ninyW"
      },
      "execution_count": 6,
      "outputs": []
    },
    {
      "cell_type": "markdown",
      "source": [
        "# Run a scheduled task with parameters\n"
      ],
      "metadata": {
        "id": "9_R4jcnWi21j"
      }
    },
    {
      "cell_type": "code",
      "source": [
        "# @repeat(every(10).seconds)\n",
        "# @repeat(every(5).seconds, email=\"test@gmail.com\")\n",
        "# def send_email(email=\"maxwell@gmail.com\"):\n",
        "#     # The operation of sending a email can be added here\n",
        "#     print(f\"Sending email...: to {email}\")"
      ],
      "metadata": {
        "id": "DsYdbGppi18z"
      },
      "execution_count": 7,
      "outputs": []
    },
    {
      "cell_type": "code",
      "source": [
        "# import argparse\n",
        "\n",
        "# def send_email(email=\"default@gmail.com\"):\n",
        "#     # The operation of sending email can be added here\n",
        "#     print(f\"Sending email...: to {email}\")\n",
        "\n",
        "\n",
        "# if __name__ == \"__main__\":\n",
        "#     parser = argparse.ArgumentParser()\n",
        "#     parser.add_argument(\"-e\", \"--email\", help=\"Email to send\")\n",
        "\n",
        "#     args = parser.parse_args()\n",
        "\n",
        "#     if args.email:\n",
        "#         send_email(args.email)\n",
        "#     else:\n",
        "#         send_email()"
      ],
      "metadata": {
        "id": "s2rNeHphi4IM"
      },
      "execution_count": 8,
      "outputs": []
    }
  ]
}
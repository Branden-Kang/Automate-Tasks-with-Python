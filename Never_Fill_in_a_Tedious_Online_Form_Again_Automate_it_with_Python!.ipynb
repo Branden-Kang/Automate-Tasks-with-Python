{
  "nbformat": 4,
  "nbformat_minor": 0,
  "metadata": {
    "colab": {
      "provenance": [],
      "authorship_tag": "ABX9TyPa/YklsrLb4WEIcXuwXy1I"
    },
    "kernelspec": {
      "name": "python3",
      "display_name": "Python 3"
    },
    "language_info": {
      "name": "python"
    }
  },
  "cells": [
    {
      "cell_type": "markdown",
      "source": [
        "[Reference](https://medium.com/geekculture/never-fill-in-a-tedious-online-form-again-automate-it-with-python-ad82b5e7aed4)"
      ],
      "metadata": {
        "id": "FAT7_TKTJ5DV"
      }
    },
    {
      "cell_type": "code",
      "execution_count": 1,
      "metadata": {
        "id": "IdhMlWKaJ1Mb"
      },
      "outputs": [],
      "source": [
        "from selenium import webdriver\n",
        "from selenium.webdriver.chrome.service import Service\n",
        "import time\n",
        "\n",
        "path = '/Users/.../chromedriver'  # your path goes here\n",
        "service = Service(executable_path=path)\n",
        "website =  # your link goes here\n",
        "driver = webdriver.Chrome(service=service)\n",
        "\n",
        "fields = ['Name', 'Email', 'Address', 'Phone number', 'Comments']\n",
        "data = ['Frank', 'frank@example.com', '123 St', '987654321', 'Hello World']\n",
        "my_form = dict(zip(fields, data))\n",
        "\n",
        "driver.get(website)\n",
        "time.sleep(3)\n",
        "\n",
        "for field, data in my_form.items():\n",
        "    text_input = driver.find_element(by='xpath',\n",
        "                                     value=f'//div[contains(@data-params, \"{field}\")]//textarea | '\n",
        "                                           f'//div[contains(@data-params, \"{field}\")]//input')\n",
        "    text_input.send_keys(data)\n",
        "\n",
        "submit_button = driver.find_element(by='xpath', value='//div[@role=\"button\"]//span[text()=\"Submit\"]')\n",
        "submit_button.click()\n",
        "\n",
        "time.sleep(1)\n",
        "driver.quit()"
      ]
    }
  ]
}
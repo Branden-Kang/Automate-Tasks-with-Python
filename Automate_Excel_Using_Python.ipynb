{
  "nbformat": 4,
  "nbformat_minor": 0,
  "metadata": {
    "colab": {
      "provenance": [],
      "authorship_tag": "ABX9TyO7silznsxpuDXobImoI4+b"
    },
    "kernelspec": {
      "name": "python3",
      "display_name": "Python 3"
    },
    "language_info": {
      "name": "python"
    }
  },
  "cells": [
    {
      "cell_type": "markdown",
      "source": [
        "[Reference](https://medium.com/age-of-awareness/automate-excel-using-python-824615da1af3)"
      ],
      "metadata": {
        "id": "mF7g4hIhs7y5"
      }
    },
    {
      "cell_type": "markdown",
      "source": [
        "# Installation of OpenPyXl\n"
      ],
      "metadata": {
        "id": "ulxtovpVs-tN"
      }
    },
    {
      "cell_type": "code",
      "execution_count": 1,
      "metadata": {
        "colab": {
          "base_uri": "https://localhost:8080/"
        },
        "id": "Ok28FV04stpg",
        "outputId": "fa9081ae-d13a-4907-c75d-7d0f2fc8c312"
      },
      "outputs": [
        {
          "output_type": "stream",
          "name": "stdout",
          "text": [
            "Looking in indexes: https://pypi.org/simple, https://us-python.pkg.dev/colab-wheels/public/simple/\n",
            "Requirement already satisfied: openpyxl in /usr/local/lib/python3.7/dist-packages (3.0.10)\n",
            "Requirement already satisfied: et-xmlfile in /usr/local/lib/python3.7/dist-packages (from openpyxl) (1.1.0)\n"
          ]
        }
      ],
      "source": [
        "pip install openpyxl"
      ]
    },
    {
      "cell_type": "code",
      "source": [
        "import openpyxl"
      ],
      "metadata": {
        "id": "3IqWK_1gs_3Y"
      },
      "execution_count": 2,
      "outputs": []
    },
    {
      "cell_type": "code",
      "source": [
        "pip install pillow"
      ],
      "metadata": {
        "colab": {
          "base_uri": "https://localhost:8080/"
        },
        "id": "sGrLryEutAtf",
        "outputId": "1240352b-776f-4e1d-c334-a26882504a6e"
      },
      "execution_count": 3,
      "outputs": [
        {
          "output_type": "stream",
          "name": "stdout",
          "text": [
            "Looking in indexes: https://pypi.org/simple, https://us-python.pkg.dev/colab-wheels/public/simple/\n",
            "Requirement already satisfied: pillow in /usr/local/lib/python3.7/dist-packages (7.1.2)\n"
          ]
        }
      ]
    },
    {
      "cell_type": "markdown",
      "source": [
        "# Loading of an existing workbook\n"
      ],
      "metadata": {
        "id": "Jqe-quaRtCez"
      }
    },
    {
      "cell_type": "code",
      "source": [
        "from openpyxl import Workbook\n",
        "\n",
        "wb = Workbook()\n",
        "ws = wb.active\n",
        "ws.title = 'Paralympics'\n",
        "\n",
        "ws.append(['Rank', 'Country', 'Golden', 'Silver', 'Bronze'])\n",
        "ws.append([1, 'China', 95, 60, 51])\n",
        "ws.append([2, 'UK', 41, 38, 44])\n",
        "ws.append([3, 'United States of America', 36, 36, 31])\n",
        "ws.append([4, 'Russia', 36, 33, 49,])\n",
        "ws.append([5, 'Netherlands', 25, 17, 17])\n",
        "\n",
        "file_path = 'data_paralympics.xlsx'\n",
        "wb.save(file_path)"
      ],
      "metadata": {
        "id": "pk4rYU65tJaI"
      },
      "execution_count": 5,
      "outputs": []
    },
    {
      "cell_type": "code",
      "source": [
        "from openpyxl import load_workbook\n",
        "\n",
        "file_path = 'data_paralympics.xlsx'\n",
        "wb = load_workbook(file_path)\n",
        "ws = wb.active \n",
        "print(ws)\n",
        "print(ws['B2'].value)\n",
        "ws['B2'] = 'United States of America'\n",
        "wb.save(file_path)"
      ],
      "metadata": {
        "colab": {
          "base_uri": "https://localhost:8080/"
        },
        "id": "glPcvyzvtBj8",
        "outputId": "3e86e417-a7ac-41a2-d451-46a964a76e02"
      },
      "execution_count": 6,
      "outputs": [
        {
          "output_type": "stream",
          "name": "stdout",
          "text": [
            "<Worksheet \"Paralympics\">\n",
            "China\n"
          ]
        }
      ]
    },
    {
      "cell_type": "code",
      "source": [
        "from openpyxl import load_workbook, Workbook\n",
        "from openpyxl.utils import get_column_letter\n",
        "\n",
        "file_path = 'data_paralympics.xlsx'\n",
        "wb = load_workbook(file_path)\n",
        "ws = wb.active\n",
        "\n",
        "for row in range(2, 12):    # Rows from 2 to 11\n",
        "    for column in range(1, 6):  # Columns from A to E (1 to 5).\n",
        "        letter = get_column_letter(column)\n",
        "        print(ws[f'{letter}{row}'].value, end='\\t')\n",
        "    print()"
      ],
      "metadata": {
        "colab": {
          "base_uri": "https://localhost:8080/"
        },
        "id": "Cy2QUHd4tFi_",
        "outputId": "72384c21-33f6-4d56-ec46-e06e9aa92268"
      },
      "execution_count": 8,
      "outputs": [
        {
          "output_type": "stream",
          "name": "stdout",
          "text": [
            "1\tUnited States of America\t95\t60\t51\t\n",
            "2\tUK\t41\t38\t44\t\n",
            "3\tUnited States of America\t36\t36\t31\t\n",
            "4\tRussia\t36\t33\t49\t\n",
            "5\tNetherlands\t25\t17\t17\t\n",
            "None\tNone\tNone\tNone\tNone\t\n",
            "None\tNone\tNone\tNone\tNone\t\n",
            "None\tNone\tNone\tNone\tNone\t\n",
            "None\tNone\tNone\tNone\tNone\t\n",
            "None\tNone\tNone\tNone\tNone\t\n"
          ]
        }
      ]
    },
    {
      "cell_type": "code",
      "source": [
        "from openpyxl import load_workbook\n",
        "\n",
        "file_path = 'data_paralympics.xlsx'\n",
        "wb = load_workbook(file_path)\n",
        "ws = wb.active\n",
        "\n",
        "ws.move_range('A1:B5', rows=2, cols=2)\n",
        "\n",
        "wb.save(file_path)"
      ],
      "metadata": {
        "id": "kcssKPDDtSr3"
      },
      "execution_count": 10,
      "outputs": []
    },
    {
      "cell_type": "code",
      "source": [
        "from openpyxl import load_workbook\n",
        "\n",
        "file_path = 'data_paralympics.xlsx'\n",
        "wb = load_workbook(file_path)\n",
        "ws = wb.active\n",
        "\n",
        "ws['F1'] = 'Total'  # Adding header to column F\n",
        "for row in range(2, 12):    # Rows from 2 to 11\n",
        "    ws[f'F{row}'] = f'=SUM(C{row}:E{row})'  # Add formula to each row at column F\n",
        "\n",
        "wb.save(file_path)"
      ],
      "metadata": {
        "id": "1Bq23V-CtXGw"
      },
      "execution_count": 12,
      "outputs": []
    },
    {
      "cell_type": "code",
      "source": [
        "from openpyxl import load_workbook\n",
        "from openpyxl.utils import get_column_letter\n",
        "from openpyxl.styles import Font, Alignment\n",
        "\n",
        "file_path = 'data_paralympics.xlsx'\n",
        "wb = load_workbook(file_path)\n",
        "ws = wb.active\n",
        "\n",
        "for column in range(1, 7):  # Columns 1 to 6\n",
        "    letter = get_column_letter(column)\n",
        "    cell = ws[f'{letter}1']     # For readability while accessing properties\n",
        "    cell.font = Font(bold=True, underline='single')\n",
        "    cell.alignment = Alignment(horizontal='center')\n",
        "\n",
        "wb.save(file_path)"
      ],
      "metadata": {
        "id": "mRPtwR4ttcx2"
      },
      "execution_count": 13,
      "outputs": []
    }
  ]
}
{
  "nbformat": 4,
  "nbformat_minor": 0,
  "metadata": {
    "colab": {
      "name": "10 Python Scripts to Automate Your Problems.ipynb",
      "provenance": [],
      "collapsed_sections": [],
      "authorship_tag": "ABX9TyP576JsxuGWDGCPJlOBB8rX"
    },
    "kernelspec": {
      "name": "python3",
      "display_name": "Python 3"
    },
    "language_info": {
      "name": "python"
    }
  },
  "cells": [
    {
      "cell_type": "markdown",
      "source": [
        "[Reference](https://python.plainenglish.io/10-python-scripts-to-automate-your-problems-c3fb99884008)"
      ],
      "metadata": {
        "id": "s1hIiPHgOhOa"
      }
    },
    {
      "cell_type": "markdown",
      "source": [
        "# Automate Google Sheet"
      ],
      "metadata": {
        "id": "KwzbSv9FOkNR"
      }
    },
    {
      "cell_type": "code",
      "execution_count": 1,
      "metadata": {
        "id": "unF1hgjrOfyC"
      },
      "outputs": [],
      "source": [
        "# # Automate Googlesheet\n",
        "# # pip install gspread\n",
        "# # Note: You can easily get crediential file from googlesheet\n",
        "# import gspread\n",
        "# ws = gspread.service_account('test_crediential.json')\n",
        "# # Open sheet with Url or Name\n",
        "# sheet = ws.open(\"Medium Table\")\n",
        "# sheet = ws.open_by_url(\"https://docs.google.com/full_url\")\n",
        "# <==READING FROM SHEET==>\n",
        "# # Get First Sheet\n",
        "# sheet = sheet.sheet1\n",
        "# # Get all Data from Sheet\n",
        "# sheet_data = sheet.get_all_values()\n",
        "# # Get Specific Row\n",
        "# sheet_data = sheet.row_values(1)\n",
        "# # Get Specific Column\n",
        "# sheet_data = sheet.col_values(1)\n",
        "# # Get Specific Cell\n",
        "# sheet_data = sheet.cell(1, 1).value\n",
        "# # Finding Cell with match String\n",
        "# sheet_data = sheet.find(\"string\").row\n",
        "# <==WRITING TO SHEET==>\n",
        "# # Update data in Sheet\n",
        "# sheet.update(\"A1\", \"Medium Article\")\n",
        "# # Update data with row and column\n",
        "# sheet.update_cell(1, 1, \"Medium Article\")\n",
        "# # Append data to Sheet\n",
        "# sheet.append_row([\"Medium Article12\"])\n",
        "# # Delete data from row\n",
        "# sheet.delete_row(1)\n",
        "# # Data data from col\n",
        "# sheet.delete_col(1)\n",
        "# # Delete data from cell\n",
        "# sheet.delete_cell(1, 1)\n",
        "# # Format the Row and Col\n",
        "# sheet.format('A1:B2', {'textFormat': {'bold': True}})\n",
        "# # Format Color of Row and Col\n",
        "# sheet.format('A1:B2', {'backgroundColor': {'red': 1.0}})\n",
        "# # Format Font Size of Row and Col\n",
        "# sheet.format('A1:B2', {'textFormat': {'fontSize': 12}})\n",
        "# # Format Font Family of Row and Col\n",
        "# sheet.format('A1:B2', {'textFormat': {'fontFamily': 'Arial'}})"
      ]
    },
    {
      "cell_type": "markdown",
      "source": [
        "# Forecasts Weather"
      ],
      "metadata": {
        "id": "iy4ybsCyOoIX"
      }
    },
    {
      "cell_type": "code",
      "source": [
        "# # Get Weather in Python \n",
        "# # pip install python-weather\n",
        "# import asyncio\n",
        "# import python_weather as weather\n",
        "# async def Get_Weather():\n",
        "#     client = weather.Client(format= weather.IMPERIAL)\n",
        "#     w = await client.find(\"New York\")\n",
        "#     print(\"Temperature: \", w.current.temperature)\n",
        "#     for forecast in w.forecasts:\n",
        "#         print(\"Forecast: \", forecast.sky_text, forecast.temperature)\n",
        "#     await client.close()\n",
        "# if __name__ == \"__main__\":\n",
        "#   loop = asyncio.get_event_loop()\n",
        "#   loop.run_until_complete(Get_Weather())"
      ],
      "metadata": {
        "id": "2aqChNvOOmZs"
      },
      "execution_count": 2,
      "outputs": []
    },
    {
      "cell_type": "markdown",
      "source": [
        "# Get Daily News"
      ],
      "metadata": {
        "id": "vr1Gps2GOrvx"
      }
    },
    {
      "cell_type": "code",
      "source": [
        "# Get Daily News\n",
        "# pip install gnews\n",
        "from gnews import GNews\n",
        "news = GNews()\n",
        "# Get news by Keyword\n",
        "headlines = news.get_news(\"Python\")\n",
        "print(headlines[0])\n",
        "# Get Top News\n",
        "headlines = news.get_top_news()\n",
        "print(headlines)\n",
        "# Get News by Topic\n",
        "headlines = news.get_news_by_topic(\"Technology\")\n",
        "print(headlines)\n",
        "# Get News by Location\n",
        "headlines = news.get_news_by_location(\"London\")\n",
        "print(headlines)\n",
        "# Set Language, Time Period and Country\n",
        "news = GNews(language = 'en', period='2d', country=\"US\")"
      ],
      "metadata": {
        "id": "ffyGIRogOto0"
      },
      "execution_count": 4,
      "outputs": []
    },
    {
      "cell_type": "markdown",
      "source": [
        "# Automate Google Drive"
      ],
      "metadata": {
        "id": "8VDowGa5OvSU"
      }
    },
    {
      "cell_type": "code",
      "source": [
        "# # Google Drive with Python \n",
        "# # pip install PyDrive2\n",
        "# from pydrive2.auth import GoogleAuth\n",
        "# from pydrive2.drive import GoogleDrive\n",
        "# # Set Crediential with Auth\n",
        "# gauth = GoogleAuth()\n",
        "# gauth.LocalWebserverAuth()\n",
        "# gdrive = GoogleDrive(gauth)\n",
        "# # Create a file in Google Drive\n",
        "# files = gdrive.CreateFile()\n",
        "# files.SetContentString('Hello World!')\n",
        "# files.Upload()\n",
        "# # Upload a file from system\n",
        "# files = gdrive.CreateFile({'title': 'Medium.txt'})\n",
        "# files.SetContentFile('Medium.txt')\n",
        "# files.Upload()\n",
        "# # Download a file to system\n",
        "# files = gdrive.CreateFile({'id': 'File_ID'})\n",
        "# files.GetContentFile('Downloaded.txt')\n",
        "# # List files in Google Drive\n",
        "# files = gdrive.ListFile({'q': \"'root' in parents and trashed=false\"}).GetList()\n",
        "# print(\"Files in Drive: \", files)\n",
        "# # List Shared files in Google Drive\n",
        "# files = gdrive.ListFile({'q': \"'root' in parents and trashed=false and shared=true\"}).GetList()\n",
        "# print(\"Shared Files in Drive: \", files)\n",
        "# # Delete a file in Google Drive\n",
        "# files = gdrive.ListFile({'q': \"'root' in parents and trashed=false\"}).GetList()\n",
        "# files[0].Delete()\n",
        "# # Rename a file in Google Drive\n",
        "# file_list = gdrive.ListFile({'q': \"'root' in parents and trashed=false\"}).GetList()\n",
        "# file_list[0].Metadata['title'] = 'New Title'\n",
        "# file_list[0].UpdateMetadata()\n",
        "# # Move a file in Google Drive\n",
        "# files = gdrive.ListFile({'q': \"'root' in parents and trashed=false\"}).GetList()\n",
        "# files[0].Move(file_list[0].parents[0].id)\n",
        "# # Update a file in Google Drive\n",
        "# files = gdrive.ListFile({'q': \"'root' in parents and trashed=false\"}).GetList()\n",
        "# files[0].SetContentString('Hello World!')\n",
        "# files[0].Upload()\n",
        "# # Create Folder\n",
        "# files = gdrive.CreateFile({'title': 'New Folder', 'mimeType': 'application/vnd.google-apps.folder'})\n",
        "# files.Upload()"
      ],
      "metadata": {
        "id": "aar9WEdmOwrN"
      },
      "execution_count": 5,
      "outputs": []
    },
    {
      "cell_type": "markdown",
      "source": [
        "# Automate Clicks and Typing"
      ],
      "metadata": {
        "id": "PtyeMz2mO1AC"
      }
    },
    {
      "cell_type": "code",
      "source": [
        "# # Automate Keyboard and Mouse\n",
        "# # pip install PyUserInput\n",
        "# from pymouse import PyMouse\n",
        "# from pykeyboard import PyKeyboard\n",
        "# mouse = PyMouse()\n",
        "# keyboard = PyKeyboard()\n",
        "# # Move mouse to position (x, y)\n",
        "# mouse.move(60, 56)\n",
        "# # Left click\n",
        "# mouse.click(60, 56, 1)\n",
        "# # Right click\n",
        "# mouse.click(60, 56, 2)\n",
        "# # Double left click\n",
        "# mouse.click(60, 56, 1, 2)\n",
        "# # Middle click\n",
        "# mouse.click(60, 56, 3)\n",
        "# # Get the current mouse position\n",
        "# x, y = mouse.position()\n",
        "# # Press Keys\n",
        "# keyboard.press_key('p')\n",
        "# # Release Keys\n",
        "# keyboard.release_key('p')\n",
        "# # type \n",
        "# keyboard.type_string('How are you!')\n",
        "# # Tap keys\n",
        "# keyboard.tap_key('a')\n",
        "# # Tap Function keys\n",
        "# keyboard.tap_key(keyboard.function_keys[1])\n",
        "# # Tap Control keys\n",
        "# keyboard.tap_key(keyboard.control_keys[1])\n",
        "# # Tap Combination keys\n",
        "# keyboard.tap_key(keyboard.key_to_string(keyboard.control_keys[1]) + 'p')"
      ],
      "metadata": {
        "id": "bA7hXKsxOzoW"
      },
      "execution_count": 6,
      "outputs": []
    },
    {
      "cell_type": "markdown",
      "source": [
        "# Compare Photos"
      ],
      "metadata": {
        "id": "iQ5HkC7-O4qf"
      }
    },
    {
      "cell_type": "code",
      "source": [
        "# # Compare Photos\n",
        "# # pip install Pillow\n",
        "# from PIL import Image, ImageChops\n",
        "# # Spot the Difference \n",
        "# def Comparing(img1, img2):\n",
        "#     image_1 = Image.open(img1)\n",
        "#     image_2 = Image.open(img2)\n",
        "#     d = ImageChops.difference(image_1, image_2)\n",
        "#     d.save('diff.png')\n",
        "#     d.show\n",
        "#     return\n",
        "# Comparing('img1.png', 'img2.png')"
      ],
      "metadata": {
        "id": "71pzpiUEO3fx"
      },
      "execution_count": 7,
      "outputs": []
    },
    {
      "cell_type": "markdown",
      "source": [
        "# Generate Random Fake Data"
      ],
      "metadata": {
        "id": "UiHyI6S9O8dX"
      }
    },
    {
      "cell_type": "code",
      "source": [
        "# # Generate Random Test Data\n",
        "# # pip install fauxfactory\n",
        "# import fauxfactory as tmp\n",
        "# # Generate Test Emails\n",
        "# for i in range(1, 10):\n",
        "#     print(tmp.gen_email())\n",
        "# # Generate test Url\n",
        "# print(tmp.gen_url())\n",
        "# # Generate Test Strings\n",
        "# print(tmp.gen_string())\n",
        "# # Generate UUID\n",
        "# print(tmp.gen_uuid())\n",
        "# # Generate Test Numbers\n",
        "# print(tmp.gen_number())\n",
        "# # Generate Test DateTime\n",
        "# print(tmp.gen_datetime())\n",
        "# # Generate Test IP Address\n",
        "# print(tmp.gen_ipaddr())\n",
        "# # Generate Test Domain Name\n",
        "# print(tmp.gen_domain())"
      ],
      "metadata": {
        "id": "W9ubwg12O7Jc"
      },
      "execution_count": 8,
      "outputs": []
    },
    {
      "cell_type": "markdown",
      "source": [
        "# Currency Converter"
      ],
      "metadata": {
        "id": "9-4Q0N90O_oD"
      }
    },
    {
      "cell_type": "code",
      "source": [
        "# # Convert Your Currency\n",
        "# !pip install CurrencyConverter\n",
        "# from currency_converter import CurrencyConverter\n",
        "# import datetime as datetime\n",
        "# money = CurrencyConverter()\n",
        "# # Convert from USD to EUR\n",
        "# print(money.convert(1, 'USD', 'EUR'))\n",
        "# # Convert from EUR to USD with datatime\n",
        "# print(money.convert(1, 'EUR', 'USD', datetime.now()))\n",
        "# # Convert from EUR to USD with datatime and a specific date\n",
        "# print(money.convert(1, 'EUR', 'USD', datetime.datetime(2022, 1, 1)))\n",
        "# # Convert to USD\n",
        "# print(money.convert(100, 'GPD'))"
      ],
      "metadata": {
        "id": "a1D0jvkUO-Xm"
      },
      "execution_count": 10,
      "outputs": []
    },
    {
      "cell_type": "markdown",
      "source": [
        "# Working With APIs"
      ],
      "metadata": {
        "id": "D0gflCOqPEt7"
      }
    },
    {
      "cell_type": "code",
      "source": [
        "# # Working with APIs\n",
        "# # pip install httpx\n",
        "# import httpx\n",
        "# # Get Data\n",
        "# response = httpx.get('https://api.github.com/users/Medium_test')\n",
        "# print(response)\n",
        "# # Post Data \n",
        "# response = httpx.post('https://api.github.com/users/Medium_test', json={'name': 'medium'})\n",
        "# print(response)\n",
        "# # Call API with header\n",
        "# response = httpx.get('https://api.github.com/users/Medium_test', headers={'Authorization': 'token12'})\n",
        "# print(response)\n",
        "# # Call API with params\n",
        "# response = httpx.get('https://api.github.com/users/Medium_test', params={'since': 'xxxx-xx-xx'})\n",
        "# print(response)\n",
        "# # Use User agent\n",
        "# response = httpx.get('https://api.github.com/users/Medium_test', headers={'User-Agent': 'httpx'})\n",
        "# # Get Text content\n",
        "# response = httpx.get('https://api.github.com/users/Medium_test')\n",
        "# print(response.text)\n",
        "# # Get JSON content\n",
        "# response = httpx.get('https://api.github.com/users/Medium_test')\n",
        "# print(response.json())"
      ],
      "metadata": {
        "id": "QyhyQjpzPBfI"
      },
      "execution_count": 11,
      "outputs": []
    },
    {
      "cell_type": "markdown",
      "source": [
        "# Multi-threading with Python"
      ],
      "metadata": {
        "id": "0CSMvpLrPIAT"
      }
    },
    {
      "cell_type": "code",
      "source": [
        "# # Multi-threading in Python\n",
        "# import threading as thread\n",
        "# import time\n",
        "# def func1():\n",
        "#     print(\"Thread 1\")\n",
        "#     time.sleep(2)\n",
        "#     print(\"Thread 1 done\")\n",
        "# def func2():\n",
        "#     print(\"Thread 2\")\n",
        "#     time.sleep(2)\n",
        "#     print(\"Thread 2 done\")\n",
        "# t1 = thread.Thread(target=func1)\n",
        "# t2 = thread.Thread(target=func2)\n",
        "# t1.start()\n",
        "# t2.start()\n",
        "# t1.join()\n",
        "# t2.join()"
      ],
      "metadata": {
        "id": "lb5F-J0yPGia"
      },
      "execution_count": 12,
      "outputs": []
    }
  ]
}
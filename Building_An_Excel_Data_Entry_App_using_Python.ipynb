{
  "nbformat": 4,
  "nbformat_minor": 0,
  "metadata": {
    "colab": {
      "provenance": [],
      "authorship_tag": "ABX9TyPRL49gfs6fwY7I95EWR/qR"
    },
    "kernelspec": {
      "name": "python3",
      "display_name": "Python 3"
    },
    "language_info": {
      "name": "python"
    }
  },
  "cells": [
    {
      "cell_type": "markdown",
      "source": [
        "[Reference](https://medium.com/codex/building-an-excel-data-entry-app-using-python-4ebf15098ce9)"
      ],
      "metadata": {
        "id": "Mo3KYwUL2VT-"
      }
    },
    {
      "cell_type": "code",
      "execution_count": 1,
      "metadata": {
        "id": "POYTZZrp1lTb"
      },
      "outputs": [],
      "source": [
        "# !pip install pandas\n",
        "# !pip install pysimplegui"
      ]
    },
    {
      "cell_type": "code",
      "source": [
        "import pandas as pd\n",
        "import PySimpleGUI as sg\n",
        "\n",
        "#My excel file is in the same location as my \n",
        "EXCEL_FILE = 'Demo_excelsheet.xlsx'\n",
        "df = pd.read_excel(EXCEL_FILE)\n",
        "\n",
        "layout = [\n",
        "    [sg.Text('Please fill out the following fields:')],\n",
        "    [sg.Text('Your Name', size=(15,1)), sg.InputText(key='Name')],\n",
        "    [sg.Text('Country', size=(15,1)), sg.InputText(key='Country')],\n",
        "    [sg.Text('Favourite Colour', size=(15,1)), sg.Combo(['Black', 'Gray', 'Green'], key='Favourite Colour')],\n",
        "    [sg.Text('I speak', size=(15,1)),\n",
        "                            sg.Checkbox('Igbo', key='Igbo'),\n",
        "                            sg.Checkbox('French', key='French'),\n",
        "                            sg.Checkbox('English', key='English')],\n",
        "    [sg.Text('No. of Children', size=(15,1)), sg.Spin([i for i in range(0,16)],\n",
        "                                                       initial_value=0, key='Children')],\n",
        "    [sg.Submit(), sg.Button('Clear'), sg.Exit()]\n",
        "]\n",
        "\n",
        "window = sg.Window('Simple data entry form', layout)\n",
        "\n",
        "def clear_input():\n",
        "    for key in values:\n",
        "        window[key]('')\n",
        "    return None\n",
        "\n",
        "while True:\n",
        "    event, values = window.read()\n",
        "    if event == sg.WIN_CLOSED or event == 'Exit':\n",
        "        break\n",
        "    if event == 'Clear':\n",
        "        clear_input()\n",
        "    if event == 'Submit':\n",
        "        df = df.append(values, ignore_index=True)\n",
        "        df.to_excel(EXCEL_FILE, index=False)\n",
        "        sg.popup('Data saved!')\n",
        "        clear_input()\n",
        "window.close()"
      ],
      "metadata": {
        "id": "RwurD8QN2jeX"
      },
      "execution_count": 3,
      "outputs": []
    },
    {
      "cell_type": "code",
      "source": [
        "pip install pyinstaller"
      ],
      "metadata": {
        "id": "QHAoFMyw2xfo"
      },
      "execution_count": 4,
      "outputs": []
    },
    {
      "cell_type": "code",
      "source": [
        "pyinstaller --onefile --noconsole name_of_file.py"
      ],
      "metadata": {
        "id": "w8Vkro062zd6"
      },
      "execution_count": 5,
      "outputs": []
    }
  ]
}
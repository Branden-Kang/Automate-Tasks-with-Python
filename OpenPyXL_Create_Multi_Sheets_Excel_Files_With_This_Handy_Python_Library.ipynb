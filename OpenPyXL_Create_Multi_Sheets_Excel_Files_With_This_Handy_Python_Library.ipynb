{
  "nbformat": 4,
  "nbformat_minor": 0,
  "metadata": {
    "colab": {
      "provenance": [],
      "authorship_tag": "ABX9TyNcqmasSnN+vH4EmSe6ppCj"
    },
    "kernelspec": {
      "name": "python3",
      "display_name": "Python 3"
    },
    "language_info": {
      "name": "python"
    }
  },
  "cells": [
    {
      "cell_type": "markdown",
      "source": [
        "[Reference](https://ismaelaraujo.medium.com/openpyxl-create-multi-sheets-excel-file-with-this-cool-python-library-5e3931bc7bb6)"
      ],
      "metadata": {
        "id": "PqtlRk1qujEH"
      }
    },
    {
      "cell_type": "code",
      "execution_count": 1,
      "metadata": {
        "id": "ruQHUJ-fuh4R"
      },
      "outputs": [],
      "source": [
        "import pandas as pd\n",
        "from openpyxl import Workbook"
      ]
    },
    {
      "cell_type": "code",
      "source": [
        "ps_games = pd.read_csv('playstation_4_games.csv')\n",
        "ps_sales = pd.read_csv('PS4_GamesSales.csv', header=0, encoding='unicode_escape')\n",
        "all_games = pd.read_csv('Video Games Dataset.csv')\n",
        "\n",
        "# Create an Excel file\n",
        "save = pd.ExcelWriter('Games Datasets.xlsx', engine='xlsxwriter')\n",
        "\n",
        "# Create tabs\n",
        "all_games.to_excel(save, sheet_name='All Games')\n",
        "ps_games.to_excel(save, sheet_name='PS Games')\n",
        "ps_sales.to_excel(save, sheet_name='PS Games Sales')\n",
        "\n",
        "# Save and close Excel\n",
        "save.save()"
      ],
      "metadata": {
        "id": "ISRH8_LgulBN"
      },
      "execution_count": 3,
      "outputs": []
    }
  ]
}
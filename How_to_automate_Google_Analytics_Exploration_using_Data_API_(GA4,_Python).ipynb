{
  "nbformat": 4,
  "nbformat_minor": 0,
  "metadata": {
    "colab": {
      "provenance": [],
      "collapsed_sections": [],
      "authorship_tag": "ABX9TyMpv5RQ9wrSBj58KYqniKiq"
    },
    "kernelspec": {
      "name": "python3",
      "display_name": "Python 3"
    },
    "language_info": {
      "name": "python"
    }
  },
  "cells": [
    {
      "cell_type": "markdown",
      "source": [
        "[Reference](https://medium.com/@schadenlim/how-to-automate-google-analytics-explorations-using-data-api-ga4-python-fd6512dcbf7c)"
      ],
      "metadata": {
        "id": "5RvSI57w62nT"
      }
    },
    {
      "cell_type": "code",
      "source": [
        "# pip install google-analytics-data"
      ],
      "metadata": {
        "id": "SpWLAbYb6_Rq"
      },
      "execution_count": 1,
      "outputs": []
    },
    {
      "cell_type": "code",
      "execution_count": 2,
      "metadata": {
        "id": "9xGwTHnv6zv_"
      },
      "outputs": [],
      "source": [
        "# from google.analytics.data_v1beta import BetaAnalyticsDataClient\n",
        "# from google.analytics.data_v1beta.types import DateRange, Dimension, Metric, RunReportRequest\n",
        "# from google.analytics.data_v1beta.types.data import MetricAggregation\n",
        "# from google.analytics.data_v1beta.types import Filter\n",
        "# from google.analytics.data_v1beta.types import FilterExpression\n",
        "# from google.analytics.data_v1beta.types import FilterExpressionList\n",
        " \n",
        "# client = BetaAnalyticsDataClient()\n",
        " \n",
        "# dimensions = [Dimension(name=dim) for dim in [\"day\"]]\n",
        "# metrics = [Metric(name=met) for met in [\"totalUsers\"]]\n",
        "# expression_str = \"city:Seoul\"\n",
        "# not_expression_str=\"browser:Firefox,operatingSystem:Linux,firstUserSource:(direct),countryId:US\"\n",
        " \n",
        "# request = RunReportRequest(\n",
        "#     property=f\"properties/{property_id}\",\n",
        "#     dimensions=dimensions,\n",
        "#     metric_aggregations=[\n",
        "#         MetricAggregation(1),\n",
        "#     ],\n",
        "#     metrics=metrics,\n",
        "#     date_ranges=[DateRange(start_date=\"2daysAgo\", end_date=\"today\")],\n",
        "#     dimension_filter=FilterExpression(\n",
        "#         and_group=FilterExpressionList(\n",
        "#             expressions=[FilterExpression(filter=Filter(field_name=field_name,string_filter=Filter.StringFilter(value=value))) for field_name, value in [tuple(pair.split(\":\")) for pair in expression_str.split(\",\")]]\n",
        "# ),\n",
        "#         not_expression=FilterExpression(\n",
        "#             and_group=FilterExpressionList(\n",
        "#                 expressions=[FilterExpression(filter=Filter(field_name=field_name,string_filter=Filter.StringFilter(value=value))) for field_name, value in [tuple(pair.split(\":\")) for pair in not_expression_str.split(\",\")]]\n",
        "#             )\n",
        "#         )\n",
        "#     )\n",
        "# )\n",
        " \n",
        "# response = client.run_report(request)"
      ]
    }
  ]
}
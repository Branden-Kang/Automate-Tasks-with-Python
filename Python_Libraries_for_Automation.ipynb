{
  "nbformat": 4,
  "nbformat_minor": 0,
  "metadata": {
    "colab": {
      "name": "Python Libraries for Automation.ipynb",
      "provenance": [],
      "authorship_tag": "ABX9TyM2NpKfiv3r8QJtkVqd4kvc"
    },
    "kernelspec": {
      "name": "python3",
      "display_name": "Python 3"
    },
    "language_info": {
      "name": "python"
    }
  },
  "cells": [
    {
      "cell_type": "markdown",
      "metadata": {
        "id": "yewRh--xAXGG"
      },
      "source": [
        "[Reference](https://murra181.medium.com/python-libraries-for-automation-3a72afe2b01b)"
      ]
    },
    {
      "cell_type": "markdown",
      "metadata": {
        "id": "jAeOxvL7Abhq"
      },
      "source": [
        "# 1) Selenium\n",
        "- This is by far one of the most popular automation libraries as it used to automate interactions with web browsers.\n",
        "- Example being automating the process to open different web pages sign in and even order that daily breakfast sandwich you have delivered"
      ]
    },
    {
      "cell_type": "markdown",
      "metadata": {
        "id": "jJyOtFB-AgHz"
      },
      "source": [
        "# 2) Beautiful Soup\n",
        "- This library is used for what is known as web scraping. It pulls the data out of the XML and HTML files that make up the website.\n",
        "- Example being scraping job postings or apartments available on Craiglist to gather data that you can sort through later."
      ]
    },
    {
      "cell_type": "markdown",
      "metadata": {
        "id": "5jxLlo5NAkrp"
      },
      "source": [
        "# 3) GUI Automation\n"
      ]
    },
    {
      "cell_type": "markdown",
      "metadata": {
        "id": "9b9pqYA_AruX"
      },
      "source": [
        "## 3.1 PyAutoGUI\n",
        "- Again this is also a main staple in the automation of daily tasks as this allows you to automate keystrokes and mouse controls in applications\n",
        "- Example being opening emails and sending an automated response"
      ]
    },
    {
      "cell_type": "markdown",
      "metadata": {
        "id": "OZXam6dWAzR1"
      },
      "source": [
        "## 3.2 Pywinauto\n",
        "- The difference between this one to the one above is the fact that this one is for windows and not other applications.\n",
        "- Automating cmd lines and other dialog boxes integrated into windows."
      ]
    }
  ]
}
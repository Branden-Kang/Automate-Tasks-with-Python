{
  "nbformat": 4,
  "nbformat_minor": 0,
  "metadata": {
    "colab": {
      "provenance": [],
      "authorship_tag": "ABX9TyPkbptauGSpPsjM9UIlwmZZ"
    },
    "kernelspec": {
      "name": "python3",
      "display_name": "Python 3"
    },
    "language_info": {
      "name": "python"
    }
  },
  "cells": [
    {
      "cell_type": "markdown",
      "source": [
        "[Reference](https://medium.com/@SergiAlfonso/how-to-send-an-email-with-python-88088a286aa9)"
      ],
      "metadata": {
        "id": "os3UtLYddDps"
      }
    },
    {
      "cell_type": "markdown",
      "source": [
        "# 1. Import all necessary Python libraries"
      ],
      "metadata": {
        "id": "IiyddJXucnTr"
      }
    },
    {
      "cell_type": "code",
      "execution_count": 1,
      "metadata": {
        "id": "lLTYmffsVLBK"
      },
      "outputs": [],
      "source": [
        "# import section\n",
        "import smtplib\n",
        "import json\n",
        "from email.message import EmailMessage"
      ]
    },
    {
      "cell_type": "markdown",
      "source": [
        "# 2. Create and load our JSON config file in our Python script"
      ],
      "metadata": {
        "id": "CmDHpNBacos0"
      }
    },
    {
      "cell_type": "code",
      "source": [
        "# {\n",
        "#     \"server\" : \"smtp.gmail.com\",\n",
        "#     \"port\" : \"465\",\n",
        "#     \"email\" : \"your_email\",\n",
        "#     \"pwd\" : \"password\"\n",
        "# }"
      ],
      "metadata": {
        "id": "XvGfJiaFcpA6"
      },
      "execution_count": 2,
      "outputs": []
    },
    {
      "cell_type": "code",
      "source": [
        "# json_file = open(\"config.json\")\n",
        "# gmail_cfg = json.load(json_file)"
      ],
      "metadata": {
        "id": "yJZU26AOcqni"
      },
      "execution_count": 3,
      "outputs": []
    },
    {
      "cell_type": "markdown",
      "source": [
        "# 3. Build the email to be sent with our Python script"
      ],
      "metadata": {
        "id": "HSI6zgpCcwbL"
      }
    },
    {
      "cell_type": "code",
      "source": [
        "# msg = EmailMessage()\n",
        "\n",
        "# msg[\"to\"] = gmail_cfg[\"email\"]\n",
        "# msg[\"from\"] = gmail_cfg[\"email\"]\n",
        "# msg[\"Subject\"] = \"Send email with Python\"\n",
        "# msg.set_content(\"Hi! this email was sent from Python script !\")"
      ],
      "metadata": {
        "id": "myiHNiVlctVB"
      },
      "execution_count": 4,
      "outputs": []
    },
    {
      "cell_type": "markdown",
      "source": [
        "![1](https://miro.medium.com/max/1260/1*CVWeI53oJJjVVlNOp98nVA.webp)"
      ],
      "metadata": {
        "id": "PyDxVEN3c-DL"
      }
    },
    {
      "cell_type": "markdown",
      "source": [
        "![2](https://miro.medium.com/max/1260/1*QRdzymDfi7Odc_kFTWKsaw.webp)"
      ],
      "metadata": {
        "id": "ljiGs7n-c_Uj"
      }
    },
    {
      "cell_type": "markdown",
      "source": [
        "# 4. Connect to Gmail SMTP and send your email with Python"
      ],
      "metadata": {
        "id": "6R37HApFc0ov"
      }
    },
    {
      "cell_type": "code",
      "source": [
        "# with smtplib.SMTP_SSL(gmail_cfg[\"server\"],gmail_cfg[\"port\"]) as smtp:    \n",
        "#     smtp.login(gmail_cfg[\"email\"],gmail_cfg[\"pwd\"])    \n",
        "#     smtp.send_message(msg)    \n",
        "#     print(\"Email sent ! \")"
      ],
      "metadata": {
        "id": "_JB0T7lFcz0b"
      },
      "execution_count": 5,
      "outputs": []
    }
  ]
}
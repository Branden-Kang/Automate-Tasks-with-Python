{
  "nbformat": 4,
  "nbformat_minor": 0,
  "metadata": {
    "colab": {
      "name": "Automatically organize downloads folder with a simple python script.ipynb",
      "provenance": [],
      "authorship_tag": "ABX9TyNWChZhM0y2Ez5lGuBFG/w2"
    },
    "kernelspec": {
      "name": "python3",
      "display_name": "Python 3"
    },
    "language_info": {
      "name": "python"
    }
  },
  "cells": [
    {
      "cell_type": "markdown",
      "metadata": {
        "id": "do5k0SvuCSgW"
      },
      "source": [
        "[Reference](https://blog.mukundmadhav.com/automate-downloads-folder-organization-python-script-23e02a202502)"
      ]
    },
    {
      "cell_type": "code",
      "metadata": {
        "id": "kou4glPxCKrY"
      },
      "source": [
        "import os\n",
        "from pathlib import Path\n",
        "\n",
        "#Get the file types\n",
        "\n",
        "folder_names = {\n",
        "    \"Audio\": {'aif','cda','mid','midi','mp3','mpa','ogg','wav','wma'},\n",
        "    \"Compressed\":{'7z','deb','pkg','rar','rpm', 'tar.gz','z', 'zip'},\n",
        "    'Code':{'js','jsp','html','ipynb','py','java','css'},\n",
        "    'Documents':{'ppt','pptx','pdf','xls', 'xlsx','doc','docx','txt', 'tex', 'epub'},\n",
        "    'Images':{'bmp','gif .ico','jpeg','jpg','png','jfif','svg','tif','tiff'},\n",
        "    'Softwares':{'apk','bat','bin', 'exe','jar','msi','py'},\n",
        "    'Videos':{'3gp','avi','flv','h264','mkv','mov','mp4','mpg','mpeg','wmv'},\n",
        "    'Others': {'NONE'}\n",
        "}\n",
        "\n",
        "#Extract list of files/folders\n",
        "\n",
        "downloads_path = r\"C:\\Users\\casia\\Downloads\"\n",
        "\n",
        "onlyfiles = [os.path.join(downloads_path, file) \n",
        "        for file in os.listdir(downloads_path) \n",
        "            if os.path.isfile(os.path.join(downloads_path, file))]\n",
        "\n",
        "onlyfolders = [os.path.join(downloads_path, file) \n",
        "        for file in os.listdir(downloads_path) \n",
        "            if not os.path.isfile(os.path.join(downloads_path, file))]\n",
        "\n",
        "extension_filetype_map = {extension: fileType \n",
        "        for fileType, extensions in folder_names.items() \n",
        "                for extension in extensions }\n",
        "\n",
        "# make folders\n",
        "\n",
        "folder_paths = [os.path.join(downloads_path, folder_name) \n",
        "        for folder_name in folder_names.keys()]\n",
        "\n",
        "[os.mkdir(folderPath) \n",
        "        for folderPath in folder_paths if not os.path.exists(folderPath)]\n",
        "\n",
        "# move files\n",
        "def new_path(old_path):\n",
        "    extension = str(old_path).split('.')[-1]\n",
        "    amplified_folder = extension_filetype_map[extension] if extension in extension_filetype_map.keys() else 'Others'\n",
        "    final_path = os.path.join(downloads_path,amplified_folder, str(old_path).split('\\\\')[-1])\n",
        "    return final_path\n",
        "    \n",
        "\n",
        "[Path(eachfile).rename(new_path(eachfile)) for eachfile in onlyfiles]\n",
        "\n",
        "# Move other folders\n",
        "[Path(onlyfolder).rename(os.path.join(downloads_path,'Others', str(onlyfolder).split('\\\\')[-1])) \n",
        "        for onlyfolder in onlyfolders \n",
        "                if str(onlyfolder).split('\\\\')[-1] not in folder_names.keys()]"
      ],
      "execution_count": 1,
      "outputs": []
    },
    {
      "cell_type": "code",
      "metadata": {
        "id": "49VQMf39COn8"
      },
      "source": [
        ""
      ],
      "execution_count": null,
      "outputs": []
    }
  ]
}
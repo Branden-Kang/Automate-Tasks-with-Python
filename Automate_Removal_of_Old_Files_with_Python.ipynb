{
  "nbformat": 4,
  "nbformat_minor": 0,
  "metadata": {
    "colab": {
      "provenance": [],
      "authorship_tag": "ABX9TyMV5/NFFB8Zj6qiPRFtHk2Q"
    },
    "kernelspec": {
      "name": "python3",
      "display_name": "Python 3"
    },
    "language_info": {
      "name": "python"
    }
  },
  "cells": [
    {
      "cell_type": "markdown",
      "source": [
        "[Reference](https://medium.com/@BetterEverything/automate-removal-of-old-files-in-python-2085381fdf51)"
      ],
      "metadata": {
        "id": "q1zFDGu26BRB"
      }
    },
    {
      "cell_type": "code",
      "execution_count": 1,
      "metadata": {
        "id": "22LWCuFI59qE"
      },
      "outputs": [],
      "source": [
        "import sys\n",
        "import os\n",
        "import time\n",
        "\n",
        "directory_path = sys.argv[1]\n",
        "age_threshold = int(sys.argv[2])\n",
        "\n",
        "files = os.listdir(directory_path)\n",
        "\n",
        "for filename in files:\n",
        "    filepath = directory_path + '/' + filename\n",
        "\n",
        "    stats = os.stat(filepath)\n",
        "    last_modified = stats.st_mtime\n",
        "    current_time = time.time()\n",
        "\n",
        "    file_age_in_seconds = current_time - last_modified\n",
        "    file_age_in_hours = file_age_in_seconds / 3600\n",
        "\n",
        "    if file_age_in_hours > age_threshold:\n",
        "        #FILE REMOVAL TO BE DONE HERE\n",
        "        print(filename + ' should be removed, age: ' + str(file_age_in_hours))\n",
        "    else:\n",
        "        print(filename + ' should not be removed, age: ' + str(file_age_in_hours))"
      ]
    },
    {
      "cell_type": "code",
      "source": [
        "import sys\n",
        "import os\n",
        "import time\n",
        "\n",
        "directory_path = sys.argv[1]\n",
        "age_threshold = int(sys.argv[2])\n",
        "\n",
        "files = os.listdir(directory_path)\n",
        "\n",
        "for filename in files:\n",
        "    filepath = directory_path + '/' + filename\n",
        "\n",
        "    stats = os.stat(filepath)\n",
        "    last_modified = stats.st_mtime\n",
        "    current_time = time.time()\n",
        "\n",
        "    file_age_in_seconds = current_time - last_modified\n",
        "    file_age_in_hours = file_age_in_seconds / 3600\n",
        "\n",
        "    if file_age_in_hours > age_threshold:\n",
        "        os.remove(filepath)"
      ],
      "metadata": {
        "id": "B-PJ245h6FMK"
      },
      "execution_count": 2,
      "outputs": []
    }
  ]
}
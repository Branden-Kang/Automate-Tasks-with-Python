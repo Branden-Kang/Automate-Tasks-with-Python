{
  "nbformat": 4,
  "nbformat_minor": 0,
  "metadata": {
    "colab": {
      "name": "Learn A-Z Excel Automation with Python.ipynb",
      "provenance": [],
      "authorship_tag": "ABX9TyN5+PX5QRq39tE3a+bBDMfq"
    },
    "kernelspec": {
      "name": "python3",
      "display_name": "Python 3"
    },
    "language_info": {
      "name": "python"
    }
  },
  "cells": [
    {
      "cell_type": "markdown",
      "source": [
        "[Reference](https://rajansahu713.medium.com/learn-a-z-excel-automation-with-python-e07fd42d37ad)"
      ],
      "metadata": {
        "id": "82tcPAq9E4SA"
      }
    },
    {
      "cell_type": "code",
      "execution_count": 1,
      "metadata": {
        "colab": {
          "base_uri": "https://localhost:8080/"
        },
        "id": "cOq4vOApErFP",
        "outputId": "883456ae-2f00-431d-d250-794efa5ff9ad"
      },
      "outputs": [
        {
          "output_type": "stream",
          "name": "stdout",
          "text": [
            "Looking in indexes: https://pypi.org/simple, https://us-python.pkg.dev/colab-wheels/public/simple/\n",
            "Requirement already satisfied: openpyxl in /usr/local/lib/python3.7/dist-packages (3.0.10)\n",
            "Requirement already satisfied: et-xmlfile in /usr/local/lib/python3.7/dist-packages (from openpyxl) (1.1.0)\n"
          ]
        }
      ],
      "source": [
        "pip install openpyxl"
      ]
    },
    {
      "cell_type": "markdown",
      "source": [
        "# Write data to excel spreadsheets using Openpyxl\n"
      ],
      "metadata": {
        "id": "6Eok4KM3GZDm"
      }
    },
    {
      "cell_type": "code",
      "source": [
        "from openpyxl import Workbook\n",
        "wb = Workbook()\n",
        "sheet = wb.active\n",
        "\n",
        "sheet['A1'] = \"Roll\"\n",
        "sheet['A2'] = 1\n",
        "sheet['A3'] = 2\n",
        "sheet['A4'] = 3\n",
        "\n",
        "sheet['B1'] = \"Name\"\n",
        "sheet['B2'] = \"Mickel\"\n",
        "sheet['B3'] = \"Ronit\"\n",
        "sheet['B4'] = \"Ronit\"\n",
        "\n",
        "sheet['C1'] = \"Marks\"\n",
        "sheet['C2'] = 80\n",
        "sheet['C3'] = 68\n",
        "sheet['C4'] = 39\n",
        "\n",
        "wb.save(\"./Student_Record_1.xlsx\")"
      ],
      "metadata": {
        "id": "JO3IKeT7FB1P"
      },
      "execution_count": 4,
      "outputs": []
    },
    {
      "cell_type": "markdown",
      "source": [
        "# Write data to excel spreadsheets using Pandas\n"
      ],
      "metadata": {
        "id": "hkBPD26PGXo4"
      }
    },
    {
      "cell_type": "code",
      "source": [
        "import pandas as pd\n",
        "\n",
        "Roll = [1, 2, 3]\n",
        "Name = [\"Mickel\", \"Ronit\", \"Ronit\"]\n",
        "Marks = [80, 68, 39]\n",
        "\n",
        "df = pd.DataFrame({'Name':Name, 'Roll':Roll, 'Marks': Marks})\n",
        "writer = pd.ExcelWriter('./Student_Record_2.xlsx')\n",
        "df.to_excel(writer, sheet_name='sheet', header=True, index=False)\n",
        "writer.save()"
      ],
      "metadata": {
        "id": "oolF4ZWZFd5V"
      },
      "execution_count": 5,
      "outputs": []
    },
    {
      "cell_type": "markdown",
      "source": [
        "# Read data from excel spreadsheets using Openpyxl\n"
      ],
      "metadata": {
        "id": "B12Wf68HGWDl"
      }
    },
    {
      "cell_type": "code",
      "source": [
        "import openpyxl \n",
        "path = './Student_Record_1.xlsx'\n",
        "wb = openpyxl.load_workbook(path)\n",
        "sheet = wb.active\n",
        "for row in sheet:\n",
        "    print([data.value for data in row])"
      ],
      "metadata": {
        "colab": {
          "base_uri": "https://localhost:8080/"
        },
        "id": "dPhV9H9RF_w2",
        "outputId": "881176cc-03b5-428e-ecfd-48d93d4ad64d"
      },
      "execution_count": 6,
      "outputs": [
        {
          "output_type": "stream",
          "name": "stdout",
          "text": [
            "['Roll', 'Name', 'Marks']\n",
            "[1, 'Mickel', 80]\n",
            "[2, 'Ronit', 68]\n",
            "[3, 'Ronit', 39]\n"
          ]
        }
      ]
    },
    {
      "cell_type": "markdown",
      "source": [
        "# Read data from excel spreadsheets using Pandas\n"
      ],
      "metadata": {
        "id": "EcFCS0LzGUg4"
      }
    },
    {
      "cell_type": "code",
      "source": [
        "import pandas as pd\n",
        "\n",
        "df = pd.read_excel(\"./Student_Record_2.xlsx\", sheet_name='sheet1')\n",
        "print(df)"
      ],
      "metadata": {
        "colab": {
          "base_uri": "https://localhost:8080/"
        },
        "id": "ghbQH3P4GLZX",
        "outputId": "1962b42e-bc29-457b-f665-858f1bd51524"
      },
      "execution_count": 7,
      "outputs": [
        {
          "output_type": "stream",
          "name": "stdout",
          "text": [
            "     Name  Roll  Marks\n",
            "0  Mickel     1     80\n",
            "1   Ronit     2     68\n",
            "2   Ronit     3     39\n"
          ]
        }
      ]
    },
    {
      "cell_type": "markdown",
      "source": [
        "# Creating Multiple spreadsheets in excel\n"
      ],
      "metadata": {
        "id": "UXpa7WzVGbay"
      }
    },
    {
      "cell_type": "code",
      "source": [
        "import openpyxl\n",
        "\n",
        "book = openpyxl.load_workbook('./Sample_file.xlsx')\n",
        "print(\"Before Creating: \", book.sheetnames)\n",
        "\n",
        "book.create_sheet(\"Student\")\n",
        "print(\"After Creating: \", book.sheetnames)\n",
        "\n",
        "book.create_sheet(\"Teacher\", 0)\n",
        "print(\"After Creating: \", book.sheetnames)\n",
        "\n",
        "book.remove(book['Sheet'])\n",
        "print(\"After Deleting: \", book.sheetnames)\n",
        "\n",
        "book.save('./Sample_file.xlsx')"
      ],
      "metadata": {
        "id": "JGQigpo7GTWQ"
      },
      "execution_count": 10,
      "outputs": []
    },
    {
      "cell_type": "markdown",
      "source": [
        "# Combining multiple excel spreadsheets into a single excel spreadsheet\n"
      ],
      "metadata": {
        "id": "Nw0qS9AeGy4u"
      }
    },
    {
      "cell_type": "code",
      "source": [
        "# importing the module\n",
        "import pandas\n",
        "  \n",
        "# reading the files\n",
        "df1 = pandas.read_excel(\"./Student_details.xlsx\")\n",
        "df2 = pandas.read_excel(\"./Marks.xlsx\")\n",
        "  \n",
        "# merging the files\n",
        "df3 = df1[[\"Roll No\",\"Name\",\"Email id\"]].merge(df2[[\"Roll No\",\"English\", \"Science\", \"History\"]], on = \"Roll No\", how = \"left\")\n",
        "  \n",
        "# creating a new file\n",
        "df3.to_excel(\"./Student_details_with_marks.xlsx\", index = False)"
      ],
      "metadata": {
        "id": "sPXN3QhUGx70"
      },
      "execution_count": 12,
      "outputs": []
    },
    {
      "cell_type": "markdown",
      "source": [
        "# Drawing Bar graph using Openpyxl\n"
      ],
      "metadata": {
        "id": "BEW-bShLNGsz"
      }
    },
    {
      "cell_type": "code",
      "source": [
        "import openpyxl\n",
        "from openpyxl.chart import BarChart, Series, Reference\n",
        "\n",
        "path = \"Data/Mark.xlsx\"\n",
        "wb = openpyxl.load_workbook(path)\n",
        "ws = wb.active\n",
        "\n",
        "chart1 = BarChart()\n",
        "chart1.type = \"col\"\n",
        "chart1.style = 10\n",
        "chart1.title = \"Bar Chart\"\n",
        "chart1.y_axis.title = 'Marks Obtain'\n",
        "chart1.x_axis.title = 'Roll No'\n",
        "\n",
        "data = Reference(ws, min_col=2, min_row=1, max_row=11, max_col=4)\n",
        "cats = Reference(ws, min_col=1, min_row=2, max_row=11)\n",
        "chart1.add_data(data, titles_from_data=True)\n",
        "chart1.set_categories(cats)\n",
        "chart1.shape = 4\n",
        "ws.add_chart(chart1, \"A10\")\n",
        "\n",
        "wb.save(\"Data/Mark.xlsx\")"
      ],
      "metadata": {
        "id": "qB6Vr6LkNEHL"
      },
      "execution_count": 13,
      "outputs": []
    }
  ]
}
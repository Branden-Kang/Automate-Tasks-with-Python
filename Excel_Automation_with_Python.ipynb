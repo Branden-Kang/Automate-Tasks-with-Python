{
  "nbformat": 4,
  "nbformat_minor": 0,
  "metadata": {
    "colab": {
      "name": "Excel Automation with Python.ipynb",
      "provenance": [],
      "collapsed_sections": [],
      "authorship_tag": "ABX9TyMCOHOuzuV0z2nvf5a/+RFb"
    },
    "kernelspec": {
      "name": "python3",
      "display_name": "Python 3"
    },
    "language_info": {
      "name": "python"
    }
  },
  "cells": [
    {
      "cell_type": "markdown",
      "source": [
        "[Reference](https://rajansahu713.medium.com/learn-a-z-excel-automation-with-python-e07fd42d37ad)"
      ],
      "metadata": {
        "id": "IbJCVqPZqHE6"
      }
    },
    {
      "cell_type": "markdown",
      "source": [
        "# 1. Writting data into xlsx file using openpyxl\n"
      ],
      "metadata": {
        "id": "aJ-OXP_SqNFh"
      }
    },
    {
      "cell_type": "code",
      "execution_count": 1,
      "metadata": {
        "id": "oVVZFBC8qEpD"
      },
      "outputs": [],
      "source": [
        "from openpyxl import Workbook    \n",
        "wb = Workbook()  \n",
        "sheet = wb.active  \n",
        "\n",
        "sheet['A1'] =\"Roll\"   \n",
        "sheet['A2'] = 1  \n",
        "sheet['A3'] = 2  \n",
        "sheet['A4'] = 3\n",
        "\n",
        "sheet['B1'] =\"Name\"   \n",
        "sheet['B2'] = \"Mickel\"  \n",
        "sheet['B3'] = \"Ronit\"  \n",
        "sheet['B4'] = \"Rohit\"\n",
        "\n",
        "sheet['C1'] =\"Marks\"   \n",
        "sheet['C2'] = 80 \n",
        "sheet['C3'] = 68  \n",
        "sheet['C4'] = 39\n",
        " \n",
        "wb.save(\"./Student_Record_1.xlsx\")"
      ]
    },
    {
      "cell_type": "markdown",
      "source": [
        "# 2. Writting data into xlsx file using Pandas\n"
      ],
      "metadata": {
        "id": "qrSPVLcSqOWp"
      }
    },
    {
      "cell_type": "code",
      "source": [
        "import pandas as pd\n",
        "\n",
        "Roll = [1, 2, 3]\n",
        "Name = ['Mickel', 'Ronit', 'Rohit']\n",
        "Marks = [80, 68, 39]\n",
        "\n",
        "df = pd.DataFrame({'Name':Name, 'Roll':Roll, 'Marks': Marks})\n",
        "\n",
        "# Create a Pandas Excel writer using XlsxWriter as the engine.\n",
        "writer = pd.ExcelWriter('./Student_Record_2.xlsx')\n",
        "\n",
        "# Convert the dataframe to an XlsxWriter Excel object.\n",
        "df.to_excel(writer, sheet_name='sheet',header=True, index=False)\n",
        "\n",
        "# Close the Pandas Excel writer and output the Excel file.\n",
        "writer.save()"
      ],
      "metadata": {
        "id": "b5EyGysHqKF2"
      },
      "execution_count": 2,
      "outputs": []
    },
    {
      "cell_type": "markdown",
      "source": [
        "# 3. Reading data from xlsx file using openpyxl\n"
      ],
      "metadata": {
        "id": "J_pqrRuFqTvn"
      }
    },
    {
      "cell_type": "code",
      "source": [
        "import openpyxl\n",
        "path = \"./Student_Record_1.xlsx\"\n",
        "wb = openpyxl.load_workbook(path)\n",
        "sheet = wb.active\n",
        "for row in sheet:\n",
        "    print([data.value for data in row])"
      ],
      "metadata": {
        "colab": {
          "base_uri": "https://localhost:8080/"
        },
        "id": "kg_SjRCvqStf",
        "outputId": "a607ef2f-f6e9-4db6-a96c-7d98cf9a36a8"
      },
      "execution_count": 3,
      "outputs": [
        {
          "output_type": "stream",
          "name": "stdout",
          "text": [
            "['Roll', 'Name', 'Marks']\n",
            "[1, 'Mickel', 80]\n",
            "[2, 'Ronit', 68]\n",
            "[3, 'Rohit', 39]\n"
          ]
        }
      ]
    },
    {
      "cell_type": "markdown",
      "source": [
        "# 4. Reading data from xlsx file using pandas\n"
      ],
      "metadata": {
        "id": "uenuDzwfqVmq"
      }
    },
    {
      "cell_type": "code",
      "source": [
        "import pandas as pd\n",
        "df = pd.read_excel(\"./Student_Record_2.xlsx\", sheet_name='sheet1')\n",
        "print(df)"
      ],
      "metadata": {
        "colab": {
          "base_uri": "https://localhost:8080/"
        },
        "id": "3-UJkEsCqU7o",
        "outputId": "6f58411a-690a-4cf6-9b1d-986693570b8f"
      },
      "execution_count": 4,
      "outputs": [
        {
          "output_type": "stream",
          "name": "stdout",
          "text": [
            "     Name  Roll  Marks\n",
            "0  Mickel     1     80\n",
            "1   Ronit     2     68\n",
            "2   Rohit     3     39\n"
          ]
        }
      ]
    },
    {
      "cell_type": "markdown",
      "source": [
        "# 5. Creating Mutipliple Sheet in single excel spreadsheet\n"
      ],
      "metadata": {
        "id": "pcONpktwqZzS"
      }
    },
    {
      "cell_type": "code",
      "source": [
        "import openpyxl\n",
        "\n",
        "book = openpyxl.load_workbook('./Sample_file.xlsx')\n",
        "print(\"Before Creating: \",book.sheetnames)\n",
        "\n",
        "#Creating new sheets in Sample_file.xlsx\n",
        "book.create_sheet(\"Student\")\n",
        "print(\"After Creating: \",book.sheetnames)\n",
        "\n",
        "# creating new sheet (\"Sheet_name\",Position) \n",
        "book.create_sheet(\"Teacher\", 0)\n",
        "print(\"After Creating: \",book.sheetnames)\n",
        "\n",
        "# Delete sheet from file\n",
        "book.remove(book['Sheet'])\n",
        "print(\"After Deleting: \",book.sheetnames)\n",
        "\n",
        "book.save('./Sample_file.xlsx')"
      ],
      "metadata": {
        "id": "pLVigcbhqy7E"
      },
      "execution_count": 6,
      "outputs": []
    },
    {
      "cell_type": "markdown",
      "source": [
        "# 6. Combining multiple excel speadsheet into a master excel\n"
      ],
      "metadata": {
        "id": "V4mka2ocq3C-"
      }
    },
    {
      "cell_type": "code",
      "source": [
        "# importing the module\n",
        "import pandas\n",
        "  \n",
        "# reading the files\n",
        "df1 = pandas.read_excel(\"./Student_details.xlsx\")\n",
        "df2 = pandas.read_excel(\"./Marks.xlsx\")\n",
        "  \n",
        "# merging the files\n",
        "df3 = df1[[\"Roll No\",\"Name\",\"Email id\"]].merge(df2[[\"Roll No\",\"English\", \"Science\", \"History\"]], on = \"Roll No\", how = \"left\")\n",
        "  \n",
        "# creating a new file\n",
        "df3.to_excel(\"./Student_details_with_marks.xlsx\", index = False)"
      ],
      "metadata": {
        "id": "xAB8CQ4qq1Ge"
      },
      "execution_count": 7,
      "outputs": []
    },
    {
      "cell_type": "markdown",
      "source": [
        "# 7. Drawing Bar graph using Openpyxl\n"
      ],
      "metadata": {
        "id": "uK7NeEiVrDL5"
      }
    },
    {
      "cell_type": "code",
      "source": [
        "import openpyxl\n",
        "from openpyxl.chart import BarChart, Series, Reference\n",
        "\n",
        "path = \"./Mark.xlsx\"\n",
        "wb = openpyxl.load_workbook(path)\n",
        "ws = wb.active\n",
        "\n",
        "chart1 = BarChart()\n",
        "chart1.type = \"col\"\n",
        "chart1.style = 10\n",
        "chart1.title = \"Bar Chart\"\n",
        "chart1.y_axis.title = 'Marks Obtain'\n",
        "chart1.x_axis.title = 'Roll No'\n",
        "\n",
        "data = Reference(ws, min_col=2, min_row=1, max_row=11, max_col=4)\n",
        "cats = Reference(ws, min_col=1, min_row=2, max_row=11)\n",
        "chart1.add_data(data, titles_from_data=True)\n",
        "chart1.set_categories(cats)\n",
        "chart1.shape = 4\n",
        "ws.add_chart(chart1, \"A10\")\n",
        "\n",
        "wb.save(\"./Mark.xlsx\")"
      ],
      "metadata": {
        "id": "7-FBAfKprBNX"
      },
      "execution_count": 8,
      "outputs": []
    },
    {
      "cell_type": "markdown",
      "source": [
        "# 8. Drawing Pie Graph using openpyxl\n"
      ],
      "metadata": {
        "id": "1idPnh6yrHgw"
      }
    },
    {
      "cell_type": "code",
      "source": [
        "import openpyxl\n",
        "\n",
        "from openpyxl.chart import (\n",
        "    PieChart,\n",
        "    ProjectedPieChart,\n",
        "    Reference\n",
        ")\n",
        "from openpyxl.chart.series import DataPoint\n",
        "\n",
        "path = \"./pie.xlsx\"\n",
        "wb = openpyxl.load_workbook(path)\n",
        "ws = wb.active\n",
        "\n",
        "pie = PieChart()\n",
        "labels = Reference(ws, min_col=1, min_row=2, max_row=8)\n",
        "data = Reference(ws, min_col=2, min_row=1, max_row=8)\n",
        "pie.add_data(data, titles_from_data=True)\n",
        "pie.set_categories(labels)\n",
        "pie.title = \"Monthly Salary Expense\"\n",
        "\n",
        "# Cut the first slice out of the pie\n",
        "slice = DataPoint(idx=0, explosion=20)\n",
        "pie.series[0].data_points = [slice]\n",
        "\n",
        "ws.add_chart(pie, \"D1\")\n",
        "\n",
        "wb.save(\"./pie.xlsx\")"
      ],
      "metadata": {
        "id": "4ziLT6s3rGtm"
      },
      "execution_count": 10,
      "outputs": []
    }
  ]
}
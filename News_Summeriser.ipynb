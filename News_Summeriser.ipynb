{
  "nbformat": 4,
  "nbformat_minor": 0,
  "metadata": {
    "colab": {
      "provenance": [],
      "authorship_tag": "ABX9TyPMmyu4bYH95c2ZIQJg8DdV"
    },
    "kernelspec": {
      "name": "python3",
      "display_name": "Python 3"
    },
    "language_info": {
      "name": "python"
    }
  },
  "cells": [
    {
      "cell_type": "markdown",
      "source": [
        "[Reference](https://medium.com/@natashanewbold/python-automation-project-with-source-code-news-summeriser-37132d89ae16)"
      ],
      "metadata": {
        "id": "kRPL5snRlvnN"
      }
    },
    {
      "cell_type": "code",
      "execution_count": 3,
      "metadata": {
        "colab": {
          "base_uri": "https://localhost:8080/"
        },
        "id": "zGzDBET_kPa1",
        "outputId": "3a53d748-8893-4363-cfb7-6825650e0a33"
      },
      "outputs": [
        {
          "output_type": "stream",
          "name": "stdout",
          "text": [
            "Looking in indexes: https://pypi.org/simple, https://us-python.pkg.dev/colab-wheels/public/simple/\n",
            "Requirement already satisfied: Gensim in /usr/local/lib/python3.8/dist-packages (3.6.0)\n",
            "Requirement already satisfied: scipy>=0.18.1 in /usr/local/lib/python3.8/dist-packages (from Gensim) (1.7.3)\n",
            "Requirement already satisfied: smart-open>=1.2.1 in /usr/local/lib/python3.8/dist-packages (from Gensim) (6.3.0)\n",
            "Requirement already satisfied: numpy>=1.11.3 in /usr/local/lib/python3.8/dist-packages (from Gensim) (1.21.6)\n",
            "Requirement already satisfied: six>=1.5.0 in /usr/local/lib/python3.8/dist-packages (from Gensim) (1.15.0)\n",
            "Looking in indexes: https://pypi.org/simple, https://us-python.pkg.dev/colab-wheels/public/simple/\n",
            "Requirement already satisfied: beautifulsoup4 in /usr/local/lib/python3.8/dist-packages (4.6.3)\n",
            "Looking in indexes: https://pypi.org/simple, https://us-python.pkg.dev/colab-wheels/public/simple/\n",
            "Requirement already satisfied: requests in /usr/local/lib/python3.8/dist-packages (2.23.0)\n",
            "Requirement already satisfied: certifi>=2017.4.17 in /usr/local/lib/python3.8/dist-packages (from requests) (2022.12.7)\n",
            "Requirement already satisfied: urllib3!=1.25.0,!=1.25.1,<1.26,>=1.21.1 in /usr/local/lib/python3.8/dist-packages (from requests) (1.24.3)\n",
            "Requirement already satisfied: chardet<4,>=3.0.2 in /usr/local/lib/python3.8/dist-packages (from requests) (3.0.4)\n",
            "Requirement already satisfied: idna<3,>=2.5 in /usr/local/lib/python3.8/dist-packages (from requests) (2.10)\n",
            "Title : Extreme UK weather: flights halted as runways melt and temperatures exceed 38C in parts of England – as it happened | UK weather | The Guardian\n",
            "Summary : \n",
            "“This means there is no impact on RAF operations.” BREAKING NEWS: Flights in and out RAF Brize Norton in Oxfordshire have been halted because the \"runway has melted\" in the hot weather, Sky News understands.Live updates: https://t.co/tZQg6mIto4📺 Sky 501, Virgin 602, Freeview 233 and YouTube pic.twitter.com/WduzBmcEIg People are being warned not to exercise over the coming days, as record temperatures are forecast to create deadly conditions.\n",
            "It said: .css-cumn2r{height:1em;width:1.5em;margin-right:3px;vertical-align:baseline;fill:#C70000;} Phoenix Park has broken the highest 21st temperature record with 33C which is Ireland’s highest of 2022 so far and 12.8C above normal.\n",
            "\n",
            "\n",
            "Length of the summarized text: 92\n"
          ]
        }
      ],
      "source": [
        "#Install Libraries\n",
        "#Gensim for text rank algorithm (Topic modelling in Python) For natural language processing, information retrieval and abstraction\n",
        "!pip install Gensim\n",
        "import gensim\n",
        "#BeautifulSoup for text extraction from the internet (webscraping)\n",
        "!pip install beautifulsoup4\n",
        "from bs4 import BeautifulSoup\n",
        "from gensim.summarization.summarizer import summarize\n",
        "from gensim.summarization import keywords\n",
        "!pip install requests\n",
        "from requests import get\n",
        "import sys #for argument parsing\n",
        "#Project\n",
        "# Exception Handling\n",
        "if len(sys.argv) > 1:\n",
        "    url = sys.argv[1]\n",
        "else:\n",
        "    sys.exit(\"Error: Please enter the  URL\")\n",
        "    \n",
        "# ### Create a Function to only extract text from html `<p>` tags\n",
        "\n",
        "def get_only_text(url):\n",
        "    \"\"\"    return the title and the text of the article    \n",
        "    at the specified url\n",
        "    \"\"\"\n",
        "\n",
        "    page = get(url)\n",
        "    soup = BeautifulSoup(page.content, \"lxml\")\n",
        "    text = ' '.join(map(lambda p: p.text, soup.find_all('p')))\n",
        "    #text = soup.text\n",
        "    title = ' '.join(soup.title.stripped_strings)\n",
        "    return title , text\n",
        "\n",
        "#Call the desired news URL\n",
        "url = \"https://www.theguardian.com/uk-news/live/2022/jul/18/uk-weather-heatwave-met-office-warning-forecast-temperature-london-schools-latest-updates\"\n",
        "text = get_only_text(url)\n",
        "#Print the text\n",
        "print (\"Title : \" + text[0])\n",
        "print (\"Summary : \")\n",
        "print (summarize(repr(text[1]), word_count=100))\n",
        "#Find out how many words we have extracted\n",
        "print(\"\\n\\nLength of the summarized text: \" + str(len(str.split((summarize(repr(text[1]), word_count=100))))))"
      ]
    }
  ]
}
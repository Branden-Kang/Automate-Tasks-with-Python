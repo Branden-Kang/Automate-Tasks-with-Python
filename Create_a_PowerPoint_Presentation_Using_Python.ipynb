{
  "nbformat": 4,
  "nbformat_minor": 0,
  "metadata": {
    "colab": {
      "name": "Create a PowerPoint Presentation Using Python.ipynb",
      "provenance": [],
      "authorship_tag": "ABX9TyPhMxkUiJ17Jfu4iWNoq0Pe"
    },
    "kernelspec": {
      "name": "python3",
      "display_name": "Python 3"
    },
    "language_info": {
      "name": "python"
    }
  },
  "cells": [
    {
      "cell_type": "markdown",
      "source": [
        "[Reference](https://python.plainenglish.io/create-powerpoint-presentation-using-python-168ff73c04e9)"
      ],
      "metadata": {
        "id": "imW3GnzS_JmF"
      }
    },
    {
      "cell_type": "markdown",
      "source": [
        "# Gather the visualizations\n"
      ],
      "metadata": {
        "id": "xOMVFNXv_OGo"
      }
    },
    {
      "cell_type": "code",
      "execution_count": 1,
      "metadata": {
        "colab": {
          "base_uri": "https://localhost:8080/",
          "height": 281
        },
        "id": "izhKtAze_Bj4",
        "outputId": "a251d3bd-7c37-429b-e52d-990adf71d8b3"
      },
      "outputs": [
        {
          "output_type": "display_data",
          "data": {
            "text/plain": [
              "<Figure size 432x288 with 1 Axes>"
            ],
            "image/png": "[encoded data removed]"
          },
          "metadata": {
            "needs_background": "light"
          }
        }
      ],
      "source": [
        "import pandas as pd\n",
        "import numpy as np\n",
        "import datetime as dt\n",
        "import requests\n",
        "import io\n",
        "\n",
        "#The python visualization in this example will be created from publicly available AirBnb data\n",
        "#url of AirBnb data for Ashville, NC\n",
        "url = \"http://data.insideairbnb.com/united-states/nc/asheville/2021-12-15/visualisations/listings.csv\"\n",
        "\n",
        "#request data from the url\n",
        "listingsFile = requests.get(url)\n",
        "\n",
        "#encode in pandas dataframe\n",
        "listings = pd.read_csv(io.StringIO(listingsFile.text), index_col=0)\n",
        "\n",
        "#We're going to look at the number of listings by room type\n",
        "room_type_counts = listings.room_type.value_counts()\n",
        "bar_plot = room_type_counts.plot(kind='barh',  \n",
        "                                 xlabel='Listing Type', \n",
        "                                 #figsize=(15,10), \n",
        "                                 title = '# Listings by Room Type')\n",
        "\n",
        "#save bar plot to png file\n",
        "bar_plot.get_figure().savefig('room_types.png', bbox_inches='tight')"
      ]
    },
    {
      "cell_type": "markdown",
      "source": [
        "# Create the PowerPoint file\n"
      ],
      "metadata": {
        "id": "W-JrlzHD_Peq"
      }
    },
    {
      "cell_type": "code",
      "source": [
        "!pip install python-pptx"
      ],
      "metadata": {
        "colab": {
          "base_uri": "https://localhost:8080/"
        },
        "id": "xiYTSRId_ijW",
        "outputId": "d5597bf4-f621-4449-a5c5-32b860c1d21c"
      },
      "execution_count": 4,
      "outputs": [
        {
          "output_type": "stream",
          "name": "stdout",
          "text": [
            "Collecting python-pptx\n",
            "  Downloading python-pptx-0.6.21.tar.gz (10.1 MB)\n",
            "\u001b[K     |████████████████████████████████| 10.1 MB 10.9 MB/s \n",
            "\u001b[?25hRequirement already satisfied: lxml>=3.1.0 in /usr/local/lib/python3.7/dist-packages (from python-pptx) (4.2.6)\n",
            "Requirement already satisfied: Pillow>=3.3.2 in /usr/local/lib/python3.7/dist-packages (from python-pptx) (7.1.2)\n",
            "Collecting XlsxWriter>=0.5.7\n",
            "  Downloading XlsxWriter-3.0.3-py3-none-any.whl (149 kB)\n",
            "\u001b[K     |████████████████████████████████| 149 kB 47.3 MB/s \n",
            "\u001b[?25hBuilding wheels for collected packages: python-pptx\n",
            "  Building wheel for python-pptx (setup.py) ... \u001b[?25l\u001b[?25hdone\n",
            "  Created wheel for python-pptx: filename=python_pptx-0.6.21-py3-none-any.whl size=470951 sha256=8c2bb2cf58627f50e8ce5bb6a53701c47b7f8c268c0279a2c350fa0c2a4b926d\n",
            "  Stored in directory: /root/.cache/pip/wheels/a7/ab/f4/52560d0d4bd4055e9261c6df6e51c7b56c2b23cca3dee811a3\n",
            "Successfully built python-pptx\n",
            "Installing collected packages: XlsxWriter, python-pptx\n",
            "Successfully installed XlsxWriter-3.0.3 python-pptx-0.6.21\n"
          ]
        }
      ]
    },
    {
      "cell_type": "code",
      "source": [
        "from pptx import Presentation\n",
        "from pptx.util import Inches\n",
        "\n",
        "#Create blank PowerPoint file\n",
        "prs = Presentation()\n",
        "\n",
        "#set slide template labels. This just makes is easier to read the code. The layout index can also be used.                   \n",
        "SLD_LAYOUT_TITLE = 0\n",
        "SLD_LAYOUT_TITLE_AND_CONTENT = 1\n",
        "SLD_LAYOUT_TITLE_ONLY = 5"
      ],
      "metadata": {
        "id": "Vl-S5Y1n_E0q"
      },
      "execution_count": 5,
      "outputs": []
    },
    {
      "cell_type": "code",
      "source": [
        "#Set title page text variables\n",
        "slide_title = \"Looker Report\"\n",
        "slide_subtitle = dt.datetime.today().strftime('%m/%d/%Y')\n",
        "\n",
        "#Add a title slide\n",
        "slide_layout = prs.slide_layouts[SLD_LAYOUT_TITLE]\n",
        "slide = prs.slides.add_slide(slide_layout)\n",
        "\n",
        "#Insert title slide text\n",
        "slide.shapes[0].text = slide_title\n",
        "slide.shapes[1].text = slide_subtitle"
      ],
      "metadata": {
        "id": "4VydKpDf_RxH"
      },
      "execution_count": 6,
      "outputs": []
    },
    {
      "cell_type": "markdown",
      "source": [
        "# Insert the Title slide\n"
      ],
      "metadata": {
        "id": "hB6YTe7H_t3n"
      }
    },
    {
      "cell_type": "code",
      "source": [
        "#Set title page text variables\n",
        "slide_title = \"Looker Report\"\n",
        "slide_subtitle = dt.datetime.today().strftime('%m/%d/%Y')\n",
        "\n",
        "#Add a title slide\n",
        "slide_layout = prs.slide_layouts[SLD_LAYOUT_TITLE]\n",
        "slide = prs.slides.add_slide(slide_layout)\n",
        "\n",
        "#Insert title slide text\n",
        "slide.shapes[0].text = slide_title\n",
        "slide.shapes[1].text = slide_subtitle"
      ],
      "metadata": {
        "id": "BAB3YfLX_olP"
      },
      "execution_count": 7,
      "outputs": []
    },
    {
      "cell_type": "markdown",
      "source": [
        "# Add Looker visualizations"
      ],
      "metadata": {
        "id": "N6SYxz_N_wZP"
      }
    },
    {
      "cell_type": "code",
      "source": [
        "#Set slide title and image locations\n",
        "slide_title = \"Images from Looker\"\n",
        "\n",
        "#create a dictionary of file names and the location they will be placed on slide\n",
        "shape_location = {\"DaysBooked.png\": {\"top\": Inches(2.2), \"left\": Inches(0)},\n",
        "                  \"GrossPayments.png\": {\"top\": Inches(2.2), \"left\": Inches(2.78)},\n",
        "                  \"Reviews.png\": {\"top\": Inches(2.2), \"left\": Inches(6.47)}}\n",
        "\n",
        "#Add a slide\n",
        "slide_layout = prs.slide_layouts[SLD_LAYOUT_TITLE_ONLY]\n",
        "slide = prs.slides.add_slide(slide_layout)\n",
        "\n",
        "#Add slide title\n",
        "slide.shapes[0].text = slide_title\n",
        "\n",
        "#Add slide images\n",
        "for image, location in shape_location.items():\n",
        "  #insert images into slide at the specified location. This will place the 3 images in a row next to each other.\n",
        "  slide.shapes.add_picture(image, location['left'], location['top'])"
      ],
      "metadata": {
        "id": "dyTbxPZY_vP_"
      },
      "execution_count": 11,
      "outputs": []
    },
    {
      "cell_type": "markdown",
      "source": [
        "# Add python visualization"
      ],
      "metadata": {
        "id": "6VicmrnB__Mq"
      }
    },
    {
      "cell_type": "code",
      "source": [
        "#Set slide title and image locations\n",
        "slide_title = \"Images from Python\"\n",
        "\n",
        "#create a dictionary of file names and the location they will be placed on slide\n",
        "shape_location = {\"room_types.png\": {\"top\": Inches(1.92), \"left\": Inches(1.88)}}\n",
        "\n",
        "#Add a slide\n",
        "slide_layout = prs.slide_layouts[SLD_LAYOUT_TITLE_ONLY]\n",
        "slide = prs.slides.add_slide(slide_layout)\n",
        "\n",
        "#Add slide title\n",
        "slide.shapes[0].text = slide_title\n",
        "\n",
        "#Add slide images\n",
        "for image, location in shape_location.items():\n",
        "  #insert images into slide at the specified location. This will place a single image in the center of the slide.\n",
        "  slide.shapes.add_picture(image, location['left'], location['top'])"
      ],
      "metadata": {
        "id": "09edT0DA_xhY"
      },
      "execution_count": 9,
      "outputs": []
    },
    {
      "cell_type": "markdown",
      "source": [
        "# Save the PowerPoint file"
      ],
      "metadata": {
        "id": "DYPiUldjAB-D"
      }
    },
    {
      "cell_type": "code",
      "source": [
        "prs.save(\"Sample_Report.pptx\")"
      ],
      "metadata": {
        "id": "MMhYkuuMAACc"
      },
      "execution_count": 10,
      "outputs": []
    }
  ]
}
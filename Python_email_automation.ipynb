{
  "nbformat": 4,
  "nbformat_minor": 0,
  "metadata": {
    "colab": {
      "name": "Python email automation.ipynb",
      "provenance": [],
      "authorship_tag": "ABX9TyNlWUxC77fHf4m4686sEQwY"
    },
    "kernelspec": {
      "name": "python3",
      "display_name": "Python 3"
    }
  },
  "cells": [
    {
      "cell_type": "code",
      "metadata": {
        "id": "1CQOWG8Ydt7R"
      },
      "source": [
        "import smtplib\n",
        "from email.message import EmailMessage\n",
        "import getpass"
      ],
      "execution_count": 1,
      "outputs": []
    },
    {
      "cell_type": "code",
      "metadata": {
        "id": "-B9xIA4zd1X6"
      },
      "source": [
        "password = getpass.getpass('Password: ')"
      ],
      "execution_count": 3,
      "outputs": []
    },
    {
      "cell_type": "markdown",
      "metadata": {
        "id": "FjPMx8J5d3oK"
      },
      "source": [
        "# Send an email"
      ]
    },
    {
      "cell_type": "code",
      "metadata": {
        "id": "ZJOjnzRDdwpH"
      },
      "source": [
        "msg = EmailMessage()\n",
        "msg['Subject'] = \"Hello, this is Branden\"\n",
        "msg['From'] = 'xxx@naver.com'\n",
        "msg['To'] = 'xxx@xxx.com'\n",
        "msg.set_content(''' I sent an email to you using Python\n",
        "There is no attachment\n",
        "''')\n",
        "\n",
        "s = smtplib.SMTP_SSL('smtp.naver.com', 465)\n",
        "s.ehlo()\n",
        "\n",
        "s.login(msg['From'],password)\n",
        "s.sendmail(msg['From'], msg['To'], msg.as_string())\n",
        "s.quit()"
      ],
      "execution_count": 8,
      "outputs": []
    },
    {
      "cell_type": "markdown",
      "metadata": {
        "id": "nhlpuF-id6wU"
      },
      "source": [
        "# Send an email with an attachment"
      ]
    },
    {
      "cell_type": "code",
      "metadata": {
        "id": "LSN7Y1pTdyEQ"
      },
      "source": [
        "import smtplib\n",
        "from email.mime.text import MIMEText\n",
        "from email.mime.base import MIMEBase\n",
        "from email.mime.image import MIMEImage\n",
        "from email.mime.multipart import MIMEMultipart\n",
        "import email.encoders as encoders\n",
        "import mimetypes"
      ],
      "execution_count": 4,
      "outputs": []
    },
    {
      "cell_type": "code",
      "metadata": {
        "id": "ngUKOeXyd-Vj"
      },
      "source": [
        "path = 'YOLO1.png'\n",
        "fp = open(path, 'rb')\n",
        "ctype, encoding = mimetypes.guess_type(path)\n",
        " \n",
        "if ctype is None or encoding is not None:\n",
        "    ctype = 'application/octet-stream'\n",
        "\n",
        "maintype, subtype = ctype.split('/', 1)\n",
        "\n",
        "if maintype == 'text': # text type\n",
        "    fp = open(path)\n",
        "    msg = MIMEText(fp.read(), _subtype=subtype)\n",
        "    fp.close()\n",
        "elif maintype == 'image': # image type\n",
        "    fp = open(path, 'rb')\n",
        "    msg = MIMEImage(fp.read(), _subtype=subtype)\n",
        "    fp.close()\n",
        "elif maintype == 'audio': # audio type\n",
        "    fp = open(path, 'rb')\n",
        "    msg = MIMEAudio(fp.read(), _subtype=subtype)\n",
        "    fp.close()\n",
        "else:\n",
        "    fp = open(path, 'rb')\n",
        "    msg = MIMEBase(maintype, subtype)\n",
        "    msg.set_payload(fp.read())\n",
        "    fp.close()\n",
        "    # Encode the payload using Base64\n",
        "    encoders.encode_base64(msg)\n",
        "\n",
        "message = MIMEMultipart()\n",
        "message['Subject'] = \"Hello please see the attached file\"\n",
        "msg['From'] = 'xxx@naver.com'\n",
        "msg['To'] = 'xxx@xxx.com'\n",
        "msg.add_header(\"Content-Disposition\", \"attachment; filename=\\\"%s\\\"\" % path)\n",
        "message.attach(msg)\n",
        "\n",
        "msgText = MIMEText('There is an attachment')\n",
        "message.attach(msgText)\n"
      ],
      "execution_count": 5,
      "outputs": []
    },
    {
      "cell_type": "code",
      "metadata": {
        "id": "LoXIS4n7eBst"
      },
      "source": [
        "maintype"
      ],
      "execution_count": 6,
      "outputs": []
    },
    {
      "cell_type": "code",
      "metadata": {
        "id": "RV7FeNE5eDZj"
      },
      "source": [
        "s = smtplib.SMTP_SSL('smtp.naver.com', 465)\n",
        "s.ehlo()\n",
        "\n",
        "s.login(msg['From'],password)\n",
        "s.sendmail(msg['From'], msg['To'], message.as_string())\n",
        "s.quit()"
      ],
      "execution_count": 7,
      "outputs": []
    }
  ]
}
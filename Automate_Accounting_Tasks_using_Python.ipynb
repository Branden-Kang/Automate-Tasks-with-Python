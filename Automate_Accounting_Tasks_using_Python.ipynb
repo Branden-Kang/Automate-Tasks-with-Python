{
  "nbformat": 4,
  "nbformat_minor": 0,
  "metadata": {
    "colab": {
      "name": "Automate Accounting Tasks using Python.ipynb",
      "provenance": [],
      "authorship_tag": "ABX9TyOC8O1Yi8mKEfwEJTO58kvd"
    },
    "kernelspec": {
      "name": "python3",
      "display_name": "Python 3"
    },
    "language_info": {
      "name": "python"
    }
  },
  "cells": [
    {
      "cell_type": "markdown",
      "metadata": {
        "id": "HSxa3NGCGHiz"
      },
      "source": [
        "[Reference](https://towardsdatascience.com/help-your-finance-team-to-automate-accounting-tasks-using-python-68bcefe7524c)"
      ]
    },
    {
      "cell_type": "code",
      "metadata": {
        "id": "GFYniLzvGQkJ"
      },
      "source": [
        "# Function to open and clean\n",
        "def clean(file_raw, month):\n",
        "    # Open the file and start from line 5\n",
        "    df_raw = pd.read_excel(file_raw, header = 5)\n",
        "    df_raw.head()\n",
        "\n",
        "    # Remove First Lines\n",
        "    df_clean = df_raw.copy()\n",
        "    df_clean = df_clean.iloc[4:]\n",
        "\n",
        "    # FillNa with '-' (strings)\n",
        "    for col in df_raw.columns[0:2]:\n",
        "        df_clean[col] = df_clean[col].fillna('-')\n",
        "\n",
        "    # FillNa with 0 (numeric)\n",
        "    for col in df_raw.columns[2:]:\n",
        "        df_clean[col] = df_clean[col].fillna(0).round(1)\n",
        "\n",
        "    # TRIM Column values \n",
        "    df_clean.columns = [str(t).strip() for t in df_clean.columns]\n",
        "\n",
        "    return df_clean "
      ],
      "execution_count": 2,
      "outputs": []
    },
    {
      "cell_type": "code",
      "metadata": {
        "id": "M7__tJDeGZa9"
      },
      "source": [
        "def process_month(df_clean, month):\n",
        "\n",
        "    # Type\n",
        "    df_clean['Type'] = df_clean[['Renting', 'Investment']].apply(\n",
        "        lambda t: 'Rent.' if t['Renting']=='X' else 'Invest.' if t['Investment']=='X' else 'Purch.', axis = 1)\n",
        "\n",
        "    # Quantity \n",
        "    dict_qty = dict(zip(['Rent.', 'Purch.', 'Invest.'], ['Rental Units', 'Purchasing Units', 'Invests. Units']))\n",
        "    df_clean['Qty'] = df_clean.apply(lambda t: t[dict_qty[t['Type']]], axis = 1)\n",
        "\n",
        "    #  Unit Cost  \n",
        "    dict_cost = dict(zip(['Rent.', 'Purch.', 'Invest.'], ['Unit Rental Cost per month', 'Purchasing Unit Cost', 'Invests. Unit Cost']))\n",
        "    df_clean['Unit Cost'] = df_clean.apply(lambda t: t[dict_cost[t['Type']]], axis = 1)\n",
        "\n",
        "    # Report dataframe\n",
        "    df_report = df_clean[df_clean.columns[-3:]].copy()\n",
        "    df_report.columns = [Month + '-' + str(i) for i in df_report.columns]\n",
        "\n",
        "    # Add Month\n",
        "    df_month = pd.DataFrame([pd.Series(['', 'May', ''])])\n",
        "    df_month.columns = df_report.columns\n",
        "\n",
        "    # Concat\n",
        "    df_report = pd.concat([df_month, df_report], ignore_index=False)\n",
        "    \n",
        "    # Reset index \n",
        "    df_report.reset_index(inplace= True)\n",
        "    \n",
        "    return df_report "
      ],
      "execution_count": 3,
      "outputs": []
    },
    {
      "cell_type": "code",
      "metadata": {
        "id": "UWIvMCCoGF_2"
      },
      "source": [
        "import pandas as pd\n",
        "\n",
        "# Dictionnary of filenames \n",
        "list_files = ['DC-JAN-2017.xlsx', 'DC-FEB-2017.xlsx', 'DC-MAR-2017.xlsx','DC-APR-2017.xlsx', 'DC-MAY-2017.xlsx', 'DC-JUN-2017.xlsx',\n",
        "             'DC-JUL-2017.xlsx', 'DC-AUG-2017.xlsx', 'DC-SEP-2017.xlsx','DC-OCT-2017.xlsx', 'DC-NOV-2017.xlsx', 'DC-DEC-2017.xlsx']\n",
        "zip_loop = zip(list_files, [i[3:6] for i in list_files])\n",
        "\n",
        "# Final report DataFrame\n",
        "df_report = pd.DataFrame()\n",
        "\n",
        "for file_name, month in zip_loop:\n",
        "    # Import and Clean Data\n",
        "    df_clean = clean(file_raw, month)\n",
        "    # Build Monthly report\n",
        "    df_month = process_month(df_clean, month)\n",
        "    # Merge with previous Months report\n",
        "    if df_report.empty\n",
        "        df_report = df_month\n",
        "    else:\n",
        "        df_report = df_report.merge(df_month, on = 'index')\n",
        "        \n",
        "# Save Final Report\n",
        "df_report.to_excel('Final Report.xlsx')"
      ],
      "execution_count": 1,
      "outputs": []
    }
  ]
}
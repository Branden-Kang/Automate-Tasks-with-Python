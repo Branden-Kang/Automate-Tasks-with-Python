{
  "nbformat": 4,
  "nbformat_minor": 0,
  "metadata": {
    "colab": {
      "provenance": [],
      "authorship_tag": "ABX9TyP23mQBAW92/CBJp6u3ogU3"
    },
    "kernelspec": {
      "name": "python3",
      "display_name": "Python 3"
    },
    "language_info": {
      "name": "python"
    }
  },
  "cells": [
    {
      "cell_type": "markdown",
      "source": [
        "[Reference](https://towardsdatascience.com/automate-your-data-management-discipline-with-python-d7f3e1d78a89)"
      ],
      "metadata": {
        "id": "gpGW8M4J_Pbb"
      }
    },
    {
      "cell_type": "code",
      "source": [
        "pip install pyodbc"
      ],
      "metadata": {
        "colab": {
          "base_uri": "https://localhost:8080/"
        },
        "id": "wcMn3iTv-0PZ",
        "outputId": "17066f16-42c5-431c-96a1-1d769b0d7322"
      },
      "execution_count": 1,
      "outputs": [
        {
          "output_type": "stream",
          "name": "stdout",
          "text": [
            "Looking in indexes: https://pypi.org/simple, https://us-python.pkg.dev/colab-wheels/public/simple/\n",
            "Collecting pyodbc\n",
            "  Downloading pyodbc-4.0.35-cp39-cp39-manylinux_2_17_x86_64.manylinux2014_x86_64.whl (329 kB)\n",
            "\u001b[2K     \u001b[90m━━━━━━━━━━━━━━━━━━━━━━━━━━━━━━━━━━━━━━━\u001b[0m \u001b[32m329.8/329.8 KB\u001b[0m \u001b[31m7.2 MB/s\u001b[0m eta \u001b[36m0:00:00\u001b[0m\n",
            "\u001b[?25hInstalling collected packages: pyodbc\n",
            "Successfully installed pyodbc-4.0.35\n"
          ]
        }
      ]
    },
    {
      "cell_type": "code",
      "execution_count": 2,
      "metadata": {
        "id": "QMCOBCM3-xtF"
      },
      "outputs": [],
      "source": [
        "import pyodbc\n",
        "import pandas as pd\n",
        "conn = pyodbc.connect('Driver={SQL Server};'\n",
        "                          'Server=<server>;'\n",
        "                          'Database=<database>;'\n",
        "                          'Trusted_Connection=yes;')\n",
        "\n",
        "cursor = conn.cursor()\n",
        "sql_query = \"SELECT * FROM table_name\"\n",
        "cursor.execute(sql_query)\n",
        "cursor.fetchall()\n",
        "sql_df = pd.read_sql(sql_query, conn)"
      ]
    }
  ]
}
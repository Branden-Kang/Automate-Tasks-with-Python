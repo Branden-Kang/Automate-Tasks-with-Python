{
  "nbformat": 4,
  "nbformat_minor": 0,
  "metadata": {
    "colab": {
      "name": "Extract Tables from Multiple PDF’s.ipynb",
      "provenance": [],
      "authorship_tag": "ABX9TyN0AyEWYACEqFbbStboZGaO"
    },
    "kernelspec": {
      "name": "python3",
      "display_name": "Python 3"
    },
    "language_info": {
      "name": "python"
    }
  },
  "cells": [
    {
      "cell_type": "markdown",
      "metadata": {
        "id": "ZgsKHwpAyQJD"
      },
      "source": [
        "[Reference](https://medium.com/mlearning-ai/extract-data-from-pdf-ccc16843be79)"
      ]
    },
    {
      "cell_type": "code",
      "metadata": {
        "colab": {
          "base_uri": "https://localhost:8080/"
        },
        "id": "HEQTXtz5yOwk",
        "outputId": "7b4e5347-6f52-479d-afb7-227aa3cfe5e9"
      },
      "source": [
        "pip install tabula-py"
      ],
      "execution_count": 1,
      "outputs": [
        {
          "output_type": "stream",
          "name": "stdout",
          "text": [
            "Collecting tabula-py\n",
            "  Downloading tabula_py-2.3.0-py3-none-any.whl (12.0 MB)\n",
            "\u001b[K     |████████████████████████████████| 12.0 MB 14.9 MB/s \n",
            "\u001b[?25hCollecting distro\n",
            "  Downloading distro-1.6.0-py2.py3-none-any.whl (19 kB)\n",
            "Requirement already satisfied: numpy in /usr/local/lib/python3.7/dist-packages (from tabula-py) (1.19.5)\n",
            "Requirement already satisfied: pandas>=0.25.3 in /usr/local/lib/python3.7/dist-packages (from tabula-py) (1.1.5)\n",
            "Requirement already satisfied: pytz>=2017.2 in /usr/local/lib/python3.7/dist-packages (from pandas>=0.25.3->tabula-py) (2018.9)\n",
            "Requirement already satisfied: python-dateutil>=2.7.3 in /usr/local/lib/python3.7/dist-packages (from pandas>=0.25.3->tabula-py) (2.8.2)\n",
            "Requirement already satisfied: six>=1.5 in /usr/local/lib/python3.7/dist-packages (from python-dateutil>=2.7.3->pandas>=0.25.3->tabula-py) (1.15.0)\n",
            "Installing collected packages: distro, tabula-py\n",
            "Successfully installed distro-1.6.0 tabula-py-2.3.0\n"
          ]
        }
      ]
    },
    {
      "cell_type": "code",
      "metadata": {
        "colab": {
          "base_uri": "https://localhost:8080/"
        },
        "id": "kGuvYe7CyUMK",
        "outputId": "3e488f54-9e60-4c1a-c5be-e083ac22a991"
      },
      "source": [
        "pip install requests"
      ],
      "execution_count": 2,
      "outputs": [
        {
          "output_type": "stream",
          "name": "stdout",
          "text": [
            "Requirement already satisfied: requests in /usr/local/lib/python3.7/dist-packages (2.23.0)\n",
            "Requirement already satisfied: idna<3,>=2.5 in /usr/local/lib/python3.7/dist-packages (from requests) (2.10)\n",
            "Requirement already satisfied: urllib3!=1.25.0,!=1.25.1,<1.26,>=1.21.1 in /usr/local/lib/python3.7/dist-packages (from requests) (1.24.3)\n",
            "Requirement already satisfied: certifi>=2017.4.17 in /usr/local/lib/python3.7/dist-packages (from requests) (2021.5.30)\n",
            "Requirement already satisfied: chardet<4,>=3.0.2 in /usr/local/lib/python3.7/dist-packages (from requests) (3.0.4)\n"
          ]
        }
      ]
    },
    {
      "cell_type": "code",
      "metadata": {
        "colab": {
          "base_uri": "https://localhost:8080/"
        },
        "id": "9Wzh9bcryv_H",
        "outputId": "b6a3d25e-b82d-47a4-9e05-59447a6dece6"
      },
      "source": [
        "!pip install urlib"
      ],
      "execution_count": 6,
      "outputs": [
        {
          "output_type": "stream",
          "name": "stdout",
          "text": [
            "\u001b[31mERROR: Could not find a version that satisfies the requirement urlib (from versions: none)\u001b[0m\n",
            "\u001b[31mERROR: No matching distribution found for urlib\u001b[0m\n"
          ]
        }
      ]
    },
    {
      "cell_type": "code",
      "metadata": {
        "colab": {
          "base_uri": "https://localhost:8080/"
        },
        "id": "nGM7yyuKyUc5",
        "outputId": "6a2133c2-81bf-4e93-c884-a5b57af40b0b"
      },
      "source": [
        "import tabula\n",
        "import requests\n",
        "import re\n",
        "from urllib.parse import urlparse\n",
        "import os\n",
        "\n",
        "file_url = [\"https://www.cnrl.com/upload/report/133/09/030421-interim_financial_statements.pdf\",\n",
        "            \"https://www.imperialoil.ca/-/media/Imperial/Files/Annual-and-quarterly-reports/2020_q4_earnings_release.pdf\",\n",
        "            \"https://www.cenovus.com/invest/docs/2020/Q4-2020-Interim-Consolidated-Financial-Statements.pdf\"]\n",
        "\n",
        "for i in file_url:\n",
        "    x = requests.get(i, stream = True)\n",
        "    a = urlparse(i)\n",
        "    b = os.path.basename(a.path)\n",
        "    with open(b,\"wb\") as pdf:\n",
        "        for chunk in x.iter_content(chunk_size=1024):\n",
        "           # writing one chunk at a time to pdf file\n",
        "             if chunk:\n",
        "                 pdf.write(chunk)\n",
        "    tables = tabula.read_pdf(b, pages=\"all\", multiple_tables=True)\n",
        "    filename = b.replace(\".pdf\", \"\")\n",
        "    tabula.convert_into(b, '{}.csv'.format(filename), pages='all')\n",
        "    print(filename)"
      ],
      "execution_count": 9,
      "outputs": [
        {
          "output_type": "stream",
          "name": "stdout",
          "text": [
            "030421-interim_financial_statements\n",
            "2020_q4_earnings_release\n",
            "Q4-2020-Interim-Consolidated-Financial-Statements\n"
          ]
        }
      ]
    }
  ]
}